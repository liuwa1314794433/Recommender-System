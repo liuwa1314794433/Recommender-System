{
 "cells": [
  {
   "cell_type": "markdown",
   "metadata": {},
   "source": [
    "# COMM7380 Recommender Systems for Digital Media"
   ]
  },
  {
   "cell_type": "code",
   "execution_count": null,
   "metadata": {},
   "outputs": [],
   "source": [
    "# Install NetworkX, Matplotlib, Pandas, Numpy using pip package in the current Jupyter kernel\n",
    "import sys\n",
    "!{sys.executable} -m pip install pandas\n",
    "!{sys.executable} -m pip install numpy"
   ]
  },
  {
   "cell_type": "markdown",
   "metadata": {},
   "source": [
    "# Matrix Factorization"
   ]
  },
  {
   "cell_type": "code",
   "execution_count": null,
   "metadata": {},
   "outputs": [],
   "source": [
    "import pandas as pd\n",
    "import numpy as np"
   ]
  },
  {
   "cell_type": "markdown",
   "metadata": {},
   "source": [
    "Let's recreate the example in the slides.\n",
    "\n",
    "![Ratings](../img/L9-ratings.png)\n",
    "\n",
    "We have 6 movies and 6 users and the respective ratings.\n",
    "Note: the zeroes are representing the not rated items"
   ]
  },
  {
   "cell_type": "code",
   "execution_count": null,
   "metadata": {},
   "outputs": [],
   "source": [
    "movies = ['mib', 'st', 'av', 'b', 'ss', 'lm']\n",
    "users = ['Sara', 'Jesper', 'Therese', 'Helle', 'Pietro', 'Ekaterina']"
   ]
  },
  {
   "cell_type": "code",
   "execution_count": null,
   "metadata": {
    "scrolled": true
   },
   "outputs": [],
   "source": [
    "M = pd.DataFrame([\n",
    "[5.0, 3.0, 0.0, 2.0, 2.0, 2.0],\n",
    "[4.0, 3.0, 4.0, 0.0, 3.0, 3.0],\n",
    "[5.0, 2.0, 5.0, 2.0, 1.0, 1.0],\n",
    "[3.0, 5.0, 3.0, 0.0, 1.0, 1.0],\n",
    "[3.0, 3.0, 3.0, 2.0, 4.0, 5.0],\n",
    "[2.0, 3.0, 2.0, 3.0, 5.0, 5.0]],\n",
    "columns=movies,\n",
    "index=users)\n",
    "M"
   ]
  },
  {
   "cell_type": "markdown",
   "metadata": {},
   "source": [
    "Let's check one rating"
   ]
  },
  {
   "cell_type": "code",
   "execution_count": null,
   "metadata": {},
   "outputs": [],
   "source": [
    "M['mib']['Sara']"
   ]
  },
  {
   "cell_type": "markdown",
   "metadata": {},
   "source": [
    "## Compute the matrix factorization\n",
    "\n",
    "The easy way, use `numpy` library."
   ]
  },
  {
   "cell_type": "code",
   "execution_count": null,
   "metadata": {},
   "outputs": [],
   "source": [
    "from numpy import linalg\n",
    "\n",
    "U, Sigma, Vt = linalg.svd(M)"
   ]
  },
  {
   "cell_type": "markdown",
   "metadata": {},
   "source": [
    "Let's print the matrices (a bit prettified considering only a certain number of `decimals`)."
   ]
  },
  {
   "cell_type": "code",
   "execution_count": null,
   "metadata": {
    "scrolled": true
   },
   "outputs": [],
   "source": [
    "def prettify_matrix(matrix, decimals):\n",
    "    print(np.array_str(matrix, precision=decimals, suppress_small=True))\n",
    "    print('==========')"
   ]
  },
  {
   "cell_type": "code",
   "execution_count": null,
   "metadata": {
    "scrolled": true
   },
   "outputs": [],
   "source": [
    "prettify_matrix(U, 3)\n",
    "prettify_matrix(Sigma, 3)\n",
    "prettify_matrix(Vt, 3)"
   ]
  },
  {
   "cell_type": "markdown",
   "metadata": {},
   "source": [
    "Sigma ($\\Sigma$) matrix here is returned by numpy function as a vector."
   ]
  },
  {
   "cell_type": "markdown",
   "metadata": {},
   "source": [
    "## Reducing the dimensionality \n",
    "\n",
    "Create a `rank_k` funtion to reduce the rank of the matrices to `k`.\n",
    "\n",
    "This value is used to reduce the number of comlumns for `U` and the number of rows for `Vt`.\n",
    "Sigma_reduced is a matrix with the `Sigma` vector values on the main diagonal (thru eye function multiplied by `Sigma` values). "
   ]
  },
  {
   "cell_type": "code",
   "execution_count": null,
   "metadata": {},
   "outputs": [],
   "source": [
    "def rank_k(U, Sigma, Vt, k):\n",
    "    U_reduced= np.mat(U[:,:k])\n",
    "    Vt_reduced = np.mat(Vt[:k,:])\n",
    "    Sigma_reduced = Sigma_reduced = np.eye(k)*Sigma[:k]\n",
    "    \n",
    "    return U_reduced, Sigma_reduced, Vt_reduced"
   ]
  },
  {
   "cell_type": "code",
   "execution_count": null,
   "metadata": {},
   "outputs": [],
   "source": [
    "U_reduced, Sigma_reduced, Vt_reduced = rank_k(U, Sigma, Vt, 4)"
   ]
  },
  {
   "cell_type": "code",
   "execution_count": null,
   "metadata": {},
   "outputs": [],
   "source": [
    "prettify_matrix(U_reduced, 3)\n",
    "prettify_matrix(Sigma_reduced, 3)\n",
    "prettify_matrix(Vt_reduced, 3)"
   ]
  },
  {
   "cell_type": "markdown",
   "metadata": {},
   "source": [
    "Let's create the approximated rating matrix `M_hat` ($\\hat M$) by multiplying the three reduced matrices"
   ]
  },
  {
   "cell_type": "code",
   "execution_count": null,
   "metadata": {},
   "outputs": [],
   "source": [
    "M_hat = U_reduced * Sigma_reduced * Vt_reduced"
   ]
  },
  {
   "cell_type": "markdown",
   "metadata": {},
   "source": [
    "Comparing the results with M matrix"
   ]
  },
  {
   "cell_type": "code",
   "execution_count": null,
   "metadata": {},
   "outputs": [],
   "source": [
    "prettify_matrix(M_hat, 3)\n",
    "prettify_matrix(M.to_numpy(), 3)"
   ]
  },
  {
   "cell_type": "markdown",
   "metadata": {},
   "source": [
    "If we cant to save only `U` and `Vt`, we need to multiply the values of those matrices by the square root of the values of Sigma_reduced. The function `rank_k2` takes care of it."
   ]
  },
  {
   "cell_type": "code",
   "execution_count": null,
   "metadata": {},
   "outputs": [],
   "source": [
    "def rank_k2(U, Sigma, Vt, k):\n",
    "    U_reduced = np.mat(U[:,:k])\n",
    "    Vt_reduced = np.mat(Vt[:k,:])\n",
    "    Sigma_reduced = np.eye(k)*Sigma[:k]\n",
    "    Sigma_sqrt = np.sqrt(Sigma_reduced)\n",
    "    \n",
    "    return U_reduced*Sigma_sqrt, Sigma_sqrt*Vt_reduced"
   ]
  },
  {
   "cell_type": "code",
   "execution_count": null,
   "metadata": {},
   "outputs": [],
   "source": [
    "U_sqrt, Vt_sqrt = rank_k2(U, Sigma, Vt, 4)"
   ]
  },
  {
   "cell_type": "markdown",
   "metadata": {},
   "source": [
    "Let's compute the resulting matrix and compare to the previous one and the original ratings"
   ]
  },
  {
   "cell_type": "code",
   "execution_count": null,
   "metadata": {},
   "outputs": [],
   "source": [
    "M_hat2 = U_sqrt * Vt_sqrt"
   ]
  },
  {
   "cell_type": "code",
   "execution_count": null,
   "metadata": {},
   "outputs": [],
   "source": [
    "prettify_matrix(M_hat2, 3)\n",
    "prettify_matrix(M_hat, 3)\n",
    "prettify_matrix(M.to_numpy(), 3)"
   ]
  },
  {
   "cell_type": "markdown",
   "metadata": {},
   "source": [
    "## Predicting a rating\n",
    "\n",
    "By using the M_hat matrix we can directly access the predicted rating. Using a Pandas dataframe makes it easier."
   ]
  },
  {
   "cell_type": "code",
   "execution_count": null,
   "metadata": {
    "scrolled": true
   },
   "outputs": [],
   "source": [
    "dfM_hat = pd.DataFrame(M_hat, columns=movies, index=users).round(2)\n",
    "dfM_hat['av']['Sara']"
   ]
  },
  {
   "cell_type": "markdown",
   "metadata": {},
   "source": [
    "Predicting using U and Vt matrices is a bit more tricky, we can create a function for it "
   ]
  },
  {
   "cell_type": "code",
   "execution_count": null,
   "metadata": {},
   "outputs": [],
   "source": [
    "def uvt_rating(U, Vt, user_index, item_index):\n",
    "    rating = U[user_index]*Vt[:,item_index]\n",
    "    return rating"
   ]
  },
  {
   "cell_type": "code",
   "execution_count": null,
   "metadata": {},
   "outputs": [],
   "source": [
    "jesper = users.index('Jesper')\n",
    "av = movies.index('av')\n",
    "\n",
    "jav_rating = uvt_rating(U_sqrt, Vt_sqrt, jesper, av)\n",
    "print(jav_rating)"
   ]
  },
  {
   "cell_type": "markdown",
   "metadata": {},
   "source": [
    "Check the real rating"
   ]
  },
  {
   "cell_type": "code",
   "execution_count": null,
   "metadata": {},
   "outputs": [],
   "source": [
    "M['av']['Jesper']"
   ]
  },
  {
   "cell_type": "markdown",
   "metadata": {},
   "source": [
    "# SVD with implicit ratings\n",
    "## Reading the User-Item Matrix\n",
    "\n",
    "In previous lecture we have produced a user-item matrix based on the behaviour of the users. Starting from observations we were able to generate implicit ratings for various items in our movie catalog.\n",
    "\n",
    "We read this information from a csv file, without the need to go through all the code again (it was saved by useng Pandas dataframe method `.to_csv()`)."
   ]
  },
  {
   "cell_type": "code",
   "execution_count": null,
   "metadata": {},
   "outputs": [],
   "source": [
    "# Read the dataset\n",
    "uiMatrix = pd.read_csv('../data/ui_implicit_ratings.csv')\n",
    "uiMatrix"
   ]
  },
  {
   "cell_type": "markdown",
   "metadata": {},
   "source": [
    "The first column is the index of the original dataset and represent the information about our users' `user_id`. We need to bring it back to be the index of our dataframe."
   ]
  },
  {
   "cell_type": "code",
   "execution_count": null,
   "metadata": {},
   "outputs": [],
   "source": [
    "# Give a name to the index column we just read\n",
    "new_columns = uiMatrix.columns.values\n",
    "new_columns[0] = 'user_id'\n",
    "uiMatrix.columns = new_columns\n",
    "# Set it as index\n",
    "uiMatrix.set_index('user_id', inplace=True)\n",
    "uiMatrix"
   ]
  },
  {
   "cell_type": "markdown",
   "metadata": {},
   "source": [
    "In real cases it should not be done... by the way is a quik way to get the things done... let's fill up the `na` values with the user's average rating."
   ]
  },
  {
   "cell_type": "code",
   "execution_count": null,
   "metadata": {
    "scrolled": true
   },
   "outputs": [],
   "source": [
    "uiMatrix = uiMatrix.apply(lambda row: row.fillna(row.mean()), axis=1)\n",
    "uiMatrix"
   ]
  },
  {
   "cell_type": "markdown",
   "metadata": {},
   "source": [
    "Apply SVD to our dataset "
   ]
  },
  {
   "cell_type": "code",
   "execution_count": null,
   "metadata": {},
   "outputs": [],
   "source": [
    "U, Sigma, Vt = linalg.svd(uiMatrix)"
   ]
  },
  {
   "cell_type": "markdown",
   "metadata": {},
   "source": [
    "Reduce the rank to 2"
   ]
  },
  {
   "cell_type": "code",
   "execution_count": null,
   "metadata": {},
   "outputs": [],
   "source": [
    "U_reduced, Sigma_reduced, Vt_reduced = rank_k(U, Sigma, Vt, 2)"
   ]
  },
  {
   "cell_type": "markdown",
   "metadata": {},
   "source": [
    "Compute the approximated rating matrix"
   ]
  },
  {
   "cell_type": "code",
   "execution_count": null,
   "metadata": {},
   "outputs": [],
   "source": [
    "uiMatrix_hat = U_reduced * Sigma_reduced * Vt_reduced"
   ]
  },
  {
   "cell_type": "code",
   "execution_count": null,
   "metadata": {},
   "outputs": [],
   "source": [
    "prettify_matrix(uiMatrix_hat, 3)\n",
    "#prettify_matrix(uiMatrix.to_numpy(), 3)"
   ]
  },
  {
   "cell_type": "markdown",
   "metadata": {},
   "source": [
    "## Predicting a rating\n",
    "\n",
    "Predict a new rating for a missing rating in the original matrix (user 400004 and item 4501244)"
   ]
  },
  {
   "cell_type": "code",
   "execution_count": null,
   "metadata": {
    "scrolled": true
   },
   "outputs": [],
   "source": [
    "dfM_hat = pd.DataFrame(uiMatrix_hat, columns=uiMatrix.columns, index=uiMatrix.index).round(3)\n",
    "dfM_hat['4501244'][400004]"
   ]
  },
  {
   "cell_type": "markdown",
   "metadata": {},
   "source": [
    "Let's check the precision of the prediciton for an existing rating"
   ]
  },
  {
   "cell_type": "code",
   "execution_count": null,
   "metadata": {},
   "outputs": [],
   "source": [
    "print('existing rating:', uiMatrix['4501244'][400003].round(3))\n",
    "print('predicted rating:', dfM_hat['4501244'][400003])"
   ]
  },
  {
   "cell_type": "markdown",
   "metadata": {},
   "source": [
    "- Course Instructor: Dr. Paolo Mengoni (Visiting Scholar, School of Communication, Hong Kong Baptist University) \n",
    "  - pmengoni@hkbu.edu.hk\n",
    "\n",
    "- The codes in this notebook take insipiration from various sources. All codes are for educational purposes only and released under the CC1.0. "
   ]
  },
  {
   "cell_type": "code",
   "execution_count": null,
   "metadata": {},
   "outputs": [],
   "source": []
  }
 ],
 "metadata": {
  "anaconda-cloud": {},
  "kernelspec": {
   "display_name": "Python 3",
   "language": "python",
   "name": "python3"
  },
  "language_info": {
   "codemirror_mode": {
    "name": "ipython",
    "version": 3
   },
   "file_extension": ".py",
   "mimetype": "text/x-python",
   "name": "python",
   "nbconvert_exporter": "python",
   "pygments_lexer": "ipython3",
   "version": "3.7.3"
  },
  "toc": {
   "nav_menu": {},
   "number_sections": true,
   "sideBar": true,
   "skip_h1_title": false,
   "title_cell": "Table of Contents",
   "title_sidebar": "Contents",
   "toc_cell": false,
   "toc_position": {},
   "toc_section_display": true,
   "toc_window_display": false
  }
 },
 "nbformat": 4,
 "nbformat_minor": 1
}
