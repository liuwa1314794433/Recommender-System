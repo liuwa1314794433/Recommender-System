{
 "cells": [
  {
   "cell_type": "markdown",
   "metadata": {},
   "source": [
    "# COMM7380 Recommender Systems for Digital Media"
   ]
  },
  {
   "cell_type": "markdown",
   "metadata": {},
   "source": [
    "\n",
    "## Funk SVD implementation\n",
    "\n",
    "`funk-svd` is a Python 3 library implemented by [Geoffrey Bolmier](https://github.com/gbolmier/funk-svd) under MIT license. This is a fast version of the famous SVD algorithm popularized by Simon Funk [(here)](http://sifter.org/simon/journal/20061211.html) during the [Neflix Prize](http://en.wikipedia.org/wiki/Netflix_Prize) competition.\n",
    "\n",
    "[`Numba`](http://numba.pydata.org/) is used to speed up the algorithm.\n",
    "\n",
    "\n",
    "## Funk SVD for recommendation in a nutshell\n",
    "\n",
    "We have a huge sparse matrix:\n",
    "\n",
    "$$\n",
    "R = \\begin{pmatrix} {\\color{Red} ?} & 2 & \\cdots & {\\color{Red} ?} & {\\color{Red} ?} \\\\ {\\color{Red} ?} & {\\color{Red} ?} & \\cdots & {\\color{Red} ?} & 4.5 \\\\ \\vdots & \\ddots & \\ddots & \\ddots & \\vdots \\\\ 3 & {\\color{Red} ?} & \\cdots & {\\color{Red} ?} & {\\color{Red} ?} \\\\ {\\color{Red} ?} & {\\color{Red} ?} & \\cdots & 5 & {\\color{Red} ?} \\end{pmatrix}\n",
    "$$\n",
    "storing known ratings for a set of users and items:\n",
    "\n",
    "$$u = 1, ..., U$$\n",
    "\n",
    "$$i = 1, ..., I$$\n",
    "\n",
    "The idea is to estimate unknown ratings by factorizing the rating matrix into two smaller matrices representing user and item characteristics:\n",
    "\n",
    "$$\n",
    "P = \\begin{pmatrix} 0.37 & \\cdots & 0.69 \\\\ \\vdots & \\ddots & \\vdots \\\\ \\vdots & \\ddots & \\vdots \\\\ \\vdots & \\ddots & \\vdots \\\\ 1.08 & \\cdots & 0.24 \\end{pmatrix} , Q = \\begin{pmatrix} 0.09 & \\cdots & \\cdots & \\cdots & 0.46 \\\\ \\vdots & \\ddots & \\ddots & \\ddots & \\vdots \\\\ 0.51 & \\cdots & \\cdots & \\cdots & 0.72 \\end{pmatrix}\n",
    "$$\n",
    "\n",
    "We call these two matrices users and items latent factors. Then, by applying the dot product between both matrices we can reconstruct our rating matrix. \n",
    "\n",
    "NOTE: Using this method the empty values will contain estimated ratings.\n",
    "\n",
    "In order to get more accurate results, the global average rating as well as the user and item biases are used in addition:\n",
    "\n",
    "$$\\bar{r} = \\frac{1}{N} \\sum_{i=1}^{N} K_{i}$$\n",
    "\n",
    "where K stands for known ratings.\n",
    "\n",
    "$$bu = \\begin{pmatrix} 0.35 & \\cdots & 0.07 \\end{pmatrix}$$\n",
    "\n",
    "$$bi = \\begin{pmatrix} 0.16 & \\cdots & 0.40 \\end{pmatrix}$$\n",
    "\n",
    "Then, we can estimate any rating by applying:\n",
    "\n",
    "$$\\hat{r}_{u, i} = \\bar{r} + bu_{u} + bi_{i} + \\sum_{f=1}^{F} P_{u, f} * Q_{i, f}$$\n",
    "\n",
    "The learning step consists in performing the SGD algorithm where for each known rating the biases and latent factors are updated as follows:\n",
    "\n",
    "$$err = r - \\hat{r}$$\n",
    "\n",
    "$$bu_{u} = bu_{u} + \\alpha * (err - \\lambda * bu_{u})$$\n",
    "\n",
    "$$bi_{i} = bi_{i} + \\alpha * (err - \\lambda * bi_{i})$$\n",
    "\n",
    "$$P_{u, f} = P_{u, f} + \\alpha * (err * Q_{i, f} - \\lambda * P_{u, f})$$\n",
    "\n",
    "$$Q_{i, f} = Q_{i, f} + \\alpha * (err * P_{u, f} - \\lambda * Q_{i, f})$$\n",
    "\n",
    "where $\\alpha$ is the learning rate and $\\lambda$ is the regularization term."
   ]
  },
  {
   "cell_type": "code",
   "execution_count": null,
   "metadata": {},
   "outputs": [],
   "source": [
    "# Install a pip package in the current Jupyter kernel\n",
    "import sys\n",
    "!{sys.executable} -m pip install pandas\n",
    "!{sys.executable} -m pip install sklearn\n",
    "!{sys.executable} -m pip install numba"
   ]
  },
  {
   "cell_type": "code",
   "execution_count": 1,
   "metadata": {},
   "outputs": [],
   "source": [
    "import pandas as pd\n",
    "import numpy as np\n",
    "\n",
    "from funk_svd.dataset import fetch_ml_ratings\n",
    "from funk_svd import SVD\n",
    "\n",
    "from sklearn.metrics import mean_absolute_error"
   ]
  },
  {
   "cell_type": "code",
   "execution_count": 2,
   "metadata": {},
   "outputs": [],
   "source": [
    "# Download dataset\n",
    "df = fetch_ml_ratings(variant='100k')\n",
    "\n",
    "# Create training/validation/test sets\n",
    "train = df.sample(frac=0.8, random_state=57) # 80% of dataset\n",
    "val = df.drop(train.index.tolist()).sample(frac=0.5, random_state=42) # 50% of training set\n",
    "test = df.drop(train.index.tolist()).drop(val.index.tolist()) # remaining 20% of dataset"
   ]
  },
  {
   "cell_type": "code",
   "execution_count": 3,
   "metadata": {},
   "outputs": [
    {
     "data": {
      "text/plain": [
       "943"
      ]
     },
     "execution_count": 3,
     "metadata": {},
     "output_type": "execute_result"
    }
   ],
   "source": [
    "# Number of users\n",
    "len(df['u_id'].unique())"
   ]
  },
  {
   "cell_type": "code",
   "execution_count": 4,
   "metadata": {},
   "outputs": [
    {
     "data": {
      "text/plain": [
       "1682"
      ]
     },
     "execution_count": 4,
     "metadata": {},
     "output_type": "execute_result"
    }
   ],
   "source": [
    "# Number of items\n",
    "len(df['i_id'].unique())"
   ]
  },
  {
   "cell_type": "code",
   "execution_count": 5,
   "metadata": {},
   "outputs": [
    {
     "data": {
      "text/plain": [
       "1586126"
      ]
     },
     "execution_count": 5,
     "metadata": {},
     "output_type": "execute_result"
    }
   ],
   "source": [
    "# Size of User-Item Matrix\n",
    "ui_size = len(df['u_id'].unique()) * len(df['i_id'].unique())\n",
    "ui_size"
   ]
  },
  {
   "cell_type": "code",
   "execution_count": 6,
   "metadata": {},
   "outputs": [
    {
     "data": {
      "text/plain": [
       "99999"
      ]
     },
     "execution_count": 6,
     "metadata": {},
     "output_type": "execute_result"
    }
   ],
   "source": [
    "# Number of ratings in dataset\n",
    "n_ratings = df.shape[0]\n",
    "n_ratings"
   ]
  },
  {
   "cell_type": "code",
   "execution_count": 7,
   "metadata": {},
   "outputs": [
    {
     "name": "stdout",
     "output_type": "stream",
     "text": [
      "ratings-matrix size ratio:  0.06304606317530889\n"
     ]
    }
   ],
   "source": [
    "print('ratings-matrix size ratio: ', n_ratings / ui_size)"
   ]
  },
  {
   "cell_type": "code",
   "execution_count": 8,
   "metadata": {},
   "outputs": [
    {
     "data": {
      "text/html": [
       "<div>\n",
       "<style scoped>\n",
       "    .dataframe tbody tr th:only-of-type {\n",
       "        vertical-align: middle;\n",
       "    }\n",
       "\n",
       "    .dataframe tbody tr th {\n",
       "        vertical-align: top;\n",
       "    }\n",
       "\n",
       "    .dataframe thead th {\n",
       "        text-align: right;\n",
       "    }\n",
       "</style>\n",
       "<table border=\"1\" class=\"dataframe\">\n",
       "  <thead>\n",
       "    <tr style=\"text-align: right;\">\n",
       "      <th></th>\n",
       "      <th>u_id</th>\n",
       "      <th>i_id</th>\n",
       "      <th>rating</th>\n",
       "      <th>timestamp</th>\n",
       "    </tr>\n",
       "  </thead>\n",
       "  <tbody>\n",
       "    <tr>\n",
       "      <th>28544</th>\n",
       "      <td>459</td>\n",
       "      <td>289</td>\n",
       "      <td>4.0</td>\n",
       "      <td>1997-11-15 10:41:19</td>\n",
       "    </tr>\n",
       "    <tr>\n",
       "      <th>72251</th>\n",
       "      <td>327</td>\n",
       "      <td>405</td>\n",
       "      <td>2.0</td>\n",
       "      <td>1998-02-18 03:59:49</td>\n",
       "    </tr>\n",
       "    <tr>\n",
       "      <th>65977</th>\n",
       "      <td>537</td>\n",
       "      <td>89</td>\n",
       "      <td>4.0</td>\n",
       "      <td>1998-01-29 07:41:02</td>\n",
       "    </tr>\n",
       "    <tr>\n",
       "      <th>28936</th>\n",
       "      <td>535</td>\n",
       "      <td>429</td>\n",
       "      <td>3.0</td>\n",
       "      <td>1997-11-16 02:29:29</td>\n",
       "    </tr>\n",
       "    <tr>\n",
       "      <th>21256</th>\n",
       "      <td>562</td>\n",
       "      <td>443</td>\n",
       "      <td>5.0</td>\n",
       "      <td>1997-11-11 05:16:44</td>\n",
       "    </tr>\n",
       "  </tbody>\n",
       "</table>\n",
       "</div>"
      ],
      "text/plain": [
       "       u_id  i_id  rating           timestamp\n",
       "28544   459   289     4.0 1997-11-15 10:41:19\n",
       "72251   327   405     2.0 1998-02-18 03:59:49\n",
       "65977   537    89     4.0 1998-01-29 07:41:02\n",
       "28936   535   429     3.0 1997-11-16 02:29:29\n",
       "21256   562   443     5.0 1997-11-11 05:16:44"
      ]
     },
     "execution_count": 8,
     "metadata": {},
     "output_type": "execute_result"
    }
   ],
   "source": [
    "# Print a sample of dataset\n",
    "train.head(5)"
   ]
  },
  {
   "cell_type": "code",
   "execution_count": 15,
   "metadata": {},
   "outputs": [],
   "source": [
    "# Use Funk SVD \n",
    "svd = SVD(learning_rate=0.001, regularization=0.005, n_epochs=100,\n",
    "          n_factors=15, min_rating=1, max_rating=5)"
   ]
  },
  {
   "cell_type": "code",
   "execution_count": 16,
   "metadata": {
    "scrolled": true
   },
   "outputs": [
    {
     "name": "stdout",
     "output_type": "stream",
     "text": [
      "Preprocessing data...\n",
      "\n",
      "Epoch 1/100  | val_loss: 1.17 - val_rmse: 1.08 - val_mae: 0.90 - took 0.8 sec\n",
      "Epoch 2/100  | val_loss: 1.10 - val_rmse: 1.05 - val_mae: 0.87 - took 0.0 sec\n",
      "Epoch 3/100  | val_loss: 1.06 - val_rmse: 1.03 - val_mae: 0.85 - took 0.0 sec\n",
      "Epoch 4/100  | val_loss: 1.04 - val_rmse: 1.02 - val_mae: 0.83 - took 0.0 sec\n",
      "Epoch 5/100  | val_loss: 1.02 - val_rmse: 1.01 - val_mae: 0.81 - took 0.0 sec\n",
      "Epoch 6/100  | val_loss: 1.00 - val_rmse: 1.00 - val_mae: 0.80 - took 0.0 sec\n",
      "Epoch 7/100  | val_loss: 0.99 - val_rmse: 0.99 - val_mae: 0.80 - took 0.0 sec\n",
      "Epoch 8/100  | val_loss: 0.98 - val_rmse: 0.99 - val_mae: 0.79 - took 0.0 sec\n",
      "Epoch 9/100  | val_loss: 0.97 - val_rmse: 0.98 - val_mae: 0.79 - took 0.0 sec\n",
      "Epoch 10/100 | val_loss: 0.96 - val_rmse: 0.98 - val_mae: 0.78 - took 0.0 sec\n",
      "Epoch 11/100 | val_loss: 0.96 - val_rmse: 0.98 - val_mae: 0.78 - took 0.0 sec\n",
      "Epoch 12/100 | val_loss: 0.95 - val_rmse: 0.98 - val_mae: 0.78 - took 0.0 sec\n",
      "Epoch 13/100 | val_loss: 0.95 - val_rmse: 0.97 - val_mae: 0.77 - took 0.0 sec\n",
      "Epoch 14/100 | val_loss: 0.94 - val_rmse: 0.97 - val_mae: 0.77 - took 0.0 sec\n",
      "Epoch 15/100 | val_loss: 0.94 - val_rmse: 0.97 - val_mae: 0.77 - took 0.0 sec\n",
      "Epoch 16/100 | val_loss: 0.94 - val_rmse: 0.97 - val_mae: 0.77 - took 0.0 sec\n",
      "Epoch 17/100 | val_loss: 0.93 - val_rmse: 0.97 - val_mae: 0.77 - took 0.0 sec\n",
      "Epoch 18/100 | val_loss: 0.93 - val_rmse: 0.97 - val_mae: 0.76 - took 0.0 sec\n",
      "Epoch 19/100 | val_loss: 0.93 - val_rmse: 0.96 - val_mae: 0.76 - took 0.0 sec\n",
      "Epoch 20/100 | val_loss: 0.93 - val_rmse: 0.96 - val_mae: 0.76 - took 0.0 sec\n",
      "Epoch 21/100 | val_loss: 0.93 - val_rmse: 0.96 - val_mae: 0.76 - took 0.0 sec\n",
      "Epoch 22/100 | val_loss: 0.92 - val_rmse: 0.96 - val_mae: 0.76 - took 0.0 sec\n",
      "\n",
      "Training took 2 sec\n"
     ]
    },
    {
     "data": {
      "text/plain": [
       "<funk_svd.svd.SVD at 0x1a1ace0cd0>"
      ]
     },
     "execution_count": 16,
     "metadata": {},
     "output_type": "execute_result"
    }
   ],
   "source": [
    "svd.fit(X=train, X_val=val, early_stopping=True, shuffle=False)"
   ]
  },
  {
   "cell_type": "code",
   "execution_count": 17,
   "metadata": {
    "scrolled": true
   },
   "outputs": [
    {
     "data": {
      "text/html": [
       "<div>\n",
       "<style scoped>\n",
       "    .dataframe tbody tr th:only-of-type {\n",
       "        vertical-align: middle;\n",
       "    }\n",
       "\n",
       "    .dataframe tbody tr th {\n",
       "        vertical-align: top;\n",
       "    }\n",
       "\n",
       "    .dataframe thead th {\n",
       "        text-align: right;\n",
       "    }\n",
       "</style>\n",
       "<table border=\"1\" class=\"dataframe\">\n",
       "  <thead>\n",
       "    <tr style=\"text-align: right;\">\n",
       "      <th></th>\n",
       "      <th>u_id</th>\n",
       "      <th>i_id</th>\n",
       "      <th>rating</th>\n",
       "      <th>timestamp</th>\n",
       "    </tr>\n",
       "  </thead>\n",
       "  <tbody>\n",
       "  </tbody>\n",
       "</table>\n",
       "</div>"
      ],
      "text/plain": [
       "Empty DataFrame\n",
       "Columns: [u_id, i_id, rating, timestamp]\n",
       "Index: []"
      ]
     },
     "execution_count": 17,
     "metadata": {},
     "output_type": "execute_result"
    }
   ],
   "source": [
    "df[(df['u_id'] == 459) & (df['i_id'] == 290)]"
   ]
  },
  {
   "cell_type": "code",
   "execution_count": 18,
   "metadata": {},
   "outputs": [
    {
     "data": {
      "text/plain": [
       "3.2629941971227336"
      ]
     },
     "execution_count": 18,
     "metadata": {},
     "output_type": "execute_result"
    }
   ],
   "source": [
    "svd.predict_pair(459, 290)"
   ]
  },
  {
   "cell_type": "markdown",
   "metadata": {},
   "source": [
    "- Course Instructor: Dr. Paolo Mengoni (Visiting Scholar, School of Communication, Hong Kong Baptist University) \n",
    "  - pmengoni@hkbu.edu.hk\n",
    "\n",
    "- The codes in this notebook take insipiration from various sources. All codes are for educational purposes only and released under the CC1.0. \n",
    "- Funk SVD code is released by the author under MIT license."
   ]
  }
 ],
 "metadata": {
  "kernelspec": {
   "display_name": "Python 3",
   "language": "python",
   "name": "python3"
  },
  "language_info": {
   "codemirror_mode": {
    "name": "ipython",
    "version": 3
   },
   "file_extension": ".py",
   "mimetype": "text/x-python",
   "name": "python",
   "nbconvert_exporter": "python",
   "pygments_lexer": "ipython3",
   "version": "3.7.6"
  }
 },
 "nbformat": 4,
 "nbformat_minor": 4
}
