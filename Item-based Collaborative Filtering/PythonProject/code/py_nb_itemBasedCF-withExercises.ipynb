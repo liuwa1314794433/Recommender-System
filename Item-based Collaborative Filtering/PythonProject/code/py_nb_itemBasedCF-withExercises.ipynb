{
 "cells": [
  {
   "cell_type": "markdown",
   "metadata": {},
   "source": [
    "# COMM7380 Recommender Systems for Digital Media"
   ]
  },
  {
   "cell_type": "code",
   "execution_count": null,
   "metadata": {},
   "outputs": [],
   "source": [
    "# Install NetworkX, Matplotlib, Pandas, Numpy using pip package in the current Jupyter kernel\n",
    "import sys\n",
    "!{sys.executable} -m pip install pandas\n",
    "!{sys.executable} -m pip install numpy\n",
    "!{sys.executable} -m pip install scipy"
   ]
  },
  {
   "cell_type": "markdown",
   "metadata": {},
   "source": [
    "# User Behaviour and the User-Item Matrix"
   ]
  },
  {
   "cell_type": "markdown",
   "metadata": {},
   "source": [
    "## Importing and knowing your data "
   ]
  },
  {
   "cell_type": "code",
   "execution_count": null,
   "metadata": {},
   "outputs": [],
   "source": [
    "import pandas as pd \n",
    "import numpy as np"
   ]
  },
  {
   "cell_type": "code",
   "execution_count": null,
   "metadata": {},
   "outputs": [],
   "source": [
    "evidence = pd.read_csv('../data/' + 'collector_log.csv')"
   ]
  },
  {
   "cell_type": "code",
   "execution_count": null,
   "metadata": {
    "scrolled": false
   },
   "outputs": [],
   "source": [
    "# checkin the type and take a glance at the head \n",
    "print(type(evidence))\n",
    "evidence.head(5)"
   ]
  },
  {
   "cell_type": "code",
   "execution_count": null,
   "metadata": {},
   "outputs": [],
   "source": [
    "users = evidence.user_id.unique()\n",
    "content = evidence.content_id.unique()\n",
    "print(type(content))\n",
    "print(len(content))"
   ]
  },
  {
   "cell_type": "markdown",
   "metadata": {},
   "source": [
    "# Implicit Ratings\n",
    "## Binary Matrix\n",
    "Let's create a user-item binary matrix from the \"buy\" events"
   ]
  },
  {
   "cell_type": "code",
   "execution_count": null,
   "metadata": {
    "scrolled": true
   },
   "outputs": [],
   "source": [
    "#Create a user-item binary matrix\n",
    "uiBuyMatrix = pd.DataFrame(columns=content, index=users)\n",
    "uiBuyMatrix.head(2)"
   ]
  },
  {
   "cell_type": "code",
   "execution_count": null,
   "metadata": {},
   "outputs": [],
   "source": [
    "evidence.event.unique()"
   ]
  },
  {
   "cell_type": "markdown",
   "metadata": {},
   "source": [
    "Select only the \"buy\" events"
   ]
  },
  {
   "cell_type": "code",
   "execution_count": null,
   "metadata": {
    "scrolled": false
   },
   "outputs": [],
   "source": [
    "buyEvidence = evidence[evidence['event'] == 'buy']\n",
    "buyEvidence.head(5)"
   ]
  },
  {
   "cell_type": "markdown",
   "metadata": {},
   "source": [
    "Create the user-item matrix `uiBuyMatrix` for the buy events"
   ]
  },
  {
   "cell_type": "code",
   "execution_count": null,
   "metadata": {},
   "outputs": [],
   "source": [
    "for index, row in buyEvidence.iterrows():\n",
    "    currentUser = row['user_id']\n",
    "    currentContent = row['content_id']\n",
    "    uiBuyMatrix.at[currentUser, currentContent] = 1"
   ]
  },
  {
   "cell_type": "code",
   "execution_count": null,
   "metadata": {
    "scrolled": true
   },
   "outputs": [],
   "source": [
    "print(uiBuyMatrix)"
   ]
  },
  {
   "cell_type": "markdown",
   "metadata": {},
   "source": [
    "## Behavioural Implicit Ratings\n",
    "\n",
    "Using the formula introduced during lecture\n",
    "\n",
    "$${IR}_(i,u) = \\left(w_1*{\\#event}_1\\right)+\\left(w_2*{\\#event}_2\\right)+\\dots+\\left(w_n*{\\#event}_n\\right)$$"
   ]
  },
  {
   "cell_type": "code",
   "execution_count": null,
   "metadata": {
    "scrolled": true
   },
   "outputs": [],
   "source": [
    "#Create a user-item matrix\n",
    "uiMatrix = pd.DataFrame(columns=content, index=users)\n",
    "uiMatrix.head(2)"
   ]
  },
  {
   "cell_type": "markdown",
   "metadata": {},
   "source": [
    "Type of events recorded in the logs"
   ]
  },
  {
   "cell_type": "code",
   "execution_count": null,
   "metadata": {},
   "outputs": [],
   "source": [
    "eventTypes = evidence.event.unique()\n",
    "print(eventTypes)"
   ]
  },
  {
   "cell_type": "markdown",
   "metadata": {},
   "source": [
    "Give a weight to each of them"
   ]
  },
  {
   "cell_type": "code",
   "execution_count": null,
   "metadata": {},
   "outputs": [],
   "source": [
    "eventWeights = {\n",
    "    'details': 15,\n",
    "    'moreDetails': 50,\n",
    "    'genreView': 0,\n",
    "    'addToList': 0,\n",
    "    'buy': 100}"
   ]
  },
  {
   "cell_type": "markdown",
   "metadata": {},
   "source": [
    "Compute the Implicit Rating for each user-item combination.\n",
    "Populate the user-item matrix `uiMatrix` with the IR values."
   ]
  },
  {
   "cell_type": "code",
   "execution_count": null,
   "metadata": {},
   "outputs": [],
   "source": [
    "# Iterate the evidence\n",
    "for index, row in evidence.iterrows():\n",
    "    # Select the user and items involved\n",
    "    currentUser = row['user_id']\n",
    "    currentContent = row['content_id']\n",
    "    \n",
    "    # Extract the appropriate weight for the event\n",
    "    w = eventWeights[row['event']]\n",
    "    \n",
    "    # Find the value eventually stored for the current user-item combination\n",
    "    currentValue = uiMatrix.at[currentUser, currentContent]\n",
    "    if np.isnan(currentValue):\n",
    "        currentValue = 0\n",
    "        \n",
    "    # Compute the new value and update the user-item matrix\n",
    "    updatedValue = currentValue + w #+ (1 * w)\n",
    "    uiMatrix.at[currentUser, currentContent] = updatedValue\n",
    "    "
   ]
  },
  {
   "cell_type": "markdown",
   "metadata": {},
   "source": [
    "# Normalise the matrix\n",
    "Update the user-item matrix by normalizing the values between 0 and 10. \n",
    "\n",
    "**Note**: NaN values should be maintained as NaN"
   ]
  },
  {
   "cell_type": "code",
   "execution_count": null,
   "metadata": {},
   "outputs": [],
   "source": [
    "uiMatrixNorm = uiMatrix.apply(\n",
    "    lambda x: ((x - np.nanmin(uiMatrix.values))/(np.nanmax(uiMatrix.values) - np.nanmin(uiMatrix.values)))*10\n",
    "    )"
   ]
  },
  {
   "cell_type": "code",
   "execution_count": null,
   "metadata": {
    "scrolled": false
   },
   "outputs": [],
   "source": [
    "uiMatrixNorm"
   ]
  },
  {
   "cell_type": "markdown",
   "metadata": {},
   "source": [
    "# Item-based Collaborative Filtering"
   ]
  },
  {
   "cell_type": "markdown",
   "metadata": {},
   "source": [
    "## Step 1: Compute Similarity between an item and the rest of the items\n",
    "\n",
    "We want to predict the rating of item 4501244 for user 400005."
   ]
  },
  {
   "cell_type": "code",
   "execution_count": null,
   "metadata": {},
   "outputs": [],
   "source": [
    "currentUser = 400005\n",
    "currentItem = 4501244"
   ]
  },
  {
   "cell_type": "markdown",
   "metadata": {},
   "source": [
    "Find all the co-rated items\n",
    "\n",
    "To avoid possible problem with measures, let's convert all the values in the matrix as floating point numbers (previusly were `object` type)"
   ]
  },
  {
   "cell_type": "code",
   "execution_count": null,
   "metadata": {},
   "outputs": [],
   "source": [
    "uiMatrixNorm = uiMatrixNorm.astype(float)"
   ]
  },
  {
   "cell_type": "markdown",
   "metadata": {},
   "source": [
    "Drop users that didn't rate actual item"
   ]
  },
  {
   "cell_type": "code",
   "execution_count": null,
   "metadata": {
    "scrolled": true
   },
   "outputs": [],
   "source": [
    "uiMatrixSelection = uiMatrixNorm.dropna(subset = [currentItem])\n",
    "uiMatrixSelection"
   ]
  },
  {
   "cell_type": "markdown",
   "metadata": {},
   "source": [
    "Drop items that are not co-rated with the actual one"
   ]
  },
  {
   "cell_type": "code",
   "execution_count": null,
   "metadata": {},
   "outputs": [],
   "source": [
    "uiMatrixSelection = uiMatrixSelection.dropna(axis = 1)\n",
    "uiMatrixSelection"
   ]
  },
  {
   "cell_type": "markdown",
   "metadata": {},
   "source": [
    "Compute the average rating for the current user"
   ]
  },
  {
   "cell_type": "code",
   "execution_count": null,
   "metadata": {
    "scrolled": true
   },
   "outputs": [],
   "source": [
    "cuAvgRating = uiMatrixNorm.loc[[currentUser]].dropna(axis=1).mean(axis=1)\n",
    "cuAvgRating"
   ]
  },
  {
   "cell_type": "markdown",
   "metadata": {},
   "source": [
    "Compute the average rating for the other users."
   ]
  },
  {
   "cell_type": "code",
   "execution_count": null,
   "metadata": {
    "scrolled": true
   },
   "outputs": [],
   "source": [
    "ouAvgRating = uiMatrixSelection.mean(axis=1)\n",
    "ouAvgRating"
   ]
  },
  {
   "cell_type": "markdown",
   "metadata": {},
   "source": [
    "Extract the current item ratings from the DataFrame. The other ratings to which we will compare will remain in the dataframe."
   ]
  },
  {
   "cell_type": "code",
   "execution_count": null,
   "metadata": {
    "scrolled": true
   },
   "outputs": [],
   "source": [
    "ciRatings = uiMatrixSelection.pop(currentItem)\n",
    "ciRatings"
   ]
  },
  {
   "cell_type": "code",
   "execution_count": null,
   "metadata": {
    "scrolled": true
   },
   "outputs": [],
   "source": [
    "uiMatrixSelection"
   ]
  },
  {
   "cell_type": "markdown",
   "metadata": {},
   "source": [
    "Normalize (another normalization!) the ratings basing on the average rating of each user"
   ]
  },
  {
   "cell_type": "code",
   "execution_count": null,
   "metadata": {},
   "outputs": [],
   "source": [
    "uiMatrixSelection = uiMatrixSelection.sub(uiMatrixSelection.mean(axis=1), axis=0)\n",
    "uiMatrixSelection"
   ]
  },
  {
   "cell_type": "markdown",
   "metadata": {},
   "source": [
    "### Cosine similarity\n",
    "\n",
    "\n",
    "Let's define our **cosine similarity** measure. We are not going to redefine all the match calculations, but we will use the **cosine distance** in `scipy` library to compute the similarity. Since this is a distance and given the characteristics of the cosine distance, we can convert it to similarity by using the following simple formula:\n",
    "\n",
    "$$cosine\\_similarity = 1 - cosine\\_distance$$"
   ]
  },
  {
   "cell_type": "code",
   "execution_count": null,
   "metadata": {
    "scrolled": true
   },
   "outputs": [],
   "source": [
    "from scipy.spatial.distance import cosine\n",
    "\n",
    "def cosine_sim(df1, df2):\n",
    "    # check for na in dataframes\n",
    "    df1na = df1.isna()\n",
    "    df1clean = df1[~df1na]\n",
    "    df2clean = df2[~df1na]\n",
    "\n",
    "    df2na = df2clean.isna()\n",
    "    df1clean = df1clean[~df2na]\n",
    "    df2clean = df2clean[~df2na]\n",
    "\n",
    "    \n",
    "    # Compute cosine similarity\n",
    "    distance = cosine(df1clean, df2clean)\n",
    "    sim = 1 - distance\n",
    "    \n",
    "    return sim\n",
    "\n",
    "print('Similarity between current item and one of the others: ', cosine_sim(ciRatings, uiMatrixSelection[3521164]))\n",
    "print('Similarity between current item and itself, if everything is ok it should be 1: ', cosine_sim(uiMatrixSelection[3521164], uiMatrixSelection[3521164]))"
   ]
  },
  {
   "cell_type": "markdown",
   "metadata": {},
   "source": [
    "Compute similarity between all the items and the current one"
   ]
  },
  {
   "cell_type": "code",
   "execution_count": null,
   "metadata": {},
   "outputs": [],
   "source": [
    "iiSimilarity = uiMatrixSelection.apply(lambda x: cosine_sim(ciRatings, x), axis=0)\n",
    "iiSimilarity"
   ]
  },
  {
   "cell_type": "markdown",
   "metadata": {},
   "source": [
    "## Step 2 and 3: order the items by similarity and select the top-k neighborhood\n",
    "\n",
    "\n",
    "Sort the items, select the top-5"
   ]
  },
  {
   "cell_type": "code",
   "execution_count": null,
   "metadata": {},
   "outputs": [],
   "source": [
    "iiSimilarity.sort_values(ascending=False, inplace=True)\n",
    "iiSimilarity.head(5)"
   ]
  },
  {
   "cell_type": "markdown",
   "metadata": {},
   "source": [
    "## Step 4: Rating prediction\n",
    "\n",
    "Now that we have the items, we can compute the predicted rating for the selected item.\n",
    "\n",
    "First select the items from the dataset."
   ]
  },
  {
   "cell_type": "code",
   "execution_count": null,
   "metadata": {
    "scrolled": true
   },
   "outputs": [],
   "source": [
    "itemsToCompare = uiMatrixNorm[iiSimilarity.head(5).index]\n",
    "itemsToCompare"
   ]
  },
  {
   "cell_type": "markdown",
   "metadata": {},
   "source": [
    "Predict the ratings (using mean value) using those items"
   ]
  },
  {
   "cell_type": "code",
   "execution_count": null,
   "metadata": {
    "scrolled": true
   },
   "outputs": [],
   "source": [
    "predictedRating = itemsToCompare.loc[currentUser].mean()\n",
    "#predictedRatings.sort_values(ascending=False, inplace=True)\n",
    "predictedRating = predictedRating"
   ]
  },
  {
   "cell_type": "markdown",
   "metadata": {},
   "source": [
    "### Find the predicted ratings for the neighboring items"
   ]
  },
  {
   "cell_type": "code",
   "execution_count": null,
   "metadata": {
    "scrolled": true
   },
   "outputs": [],
   "source": [
    "itemsToCompare = uiMatrixSelection[iiSimilarity.head(5).index]\n",
    "itemsToCompare"
   ]
  },
  {
   "cell_type": "markdown",
   "metadata": {},
   "source": [
    "Predict the ratings (using mean value) using those items"
   ]
  },
  {
   "cell_type": "code",
   "execution_count": null,
   "metadata": {
    "scrolled": true
   },
   "outputs": [],
   "source": [
    "predictedRatings = itemsToCompare.mean(axis=0)\n",
    "predictedRatings.sort_values(ascending=False, inplace=True)\n",
    "predictedRatings"
   ]
  },
  {
   "cell_type": "markdown",
   "metadata": {},
   "source": [
    "Let's bring it back to current user rating scheme"
   ]
  },
  {
   "cell_type": "code",
   "execution_count": null,
   "metadata": {},
   "outputs": [],
   "source": [
    "predictedRatings += cuAvgRating.iloc[0]\n",
    "predictedRatings"
   ]
  },
  {
   "cell_type": "markdown",
   "metadata": {},
   "source": [
    "# Precomputing similarities"
   ]
  },
  {
   "cell_type": "markdown",
   "metadata": {},
   "source": [
    "## Compute overlapping ratings\n",
    "\n",
    "\n",
    "Let's compute the ovelapping ratings in our dataset.\n",
    "\n",
    "We need a utility function to convert from numeric to boolean, indicating if the user rated an item."
   ]
  },
  {
   "cell_type": "code",
   "execution_count": null,
   "metadata": {},
   "outputs": [],
   "source": [
    "def to_bool(value):\n",
    "    if np.isnan(value):\n",
    "        return 0\n",
    "    else:\n",
    "        return 1"
   ]
  },
  {
   "cell_type": "markdown",
   "metadata": {},
   "source": [
    "Convert the user-item matrix"
   ]
  },
  {
   "cell_type": "code",
   "execution_count": null,
   "metadata": {
    "scrolled": true
   },
   "outputs": [],
   "source": [
    "uiMatrixBool = uiMatrixNorm.applymap(lambda x: to_bool(x))\n",
    "uiMatrixBool"
   ]
  },
  {
   "cell_type": "markdown",
   "metadata": {},
   "source": [
    "Compute the number of overlapping rating between each item"
   ]
  },
  {
   "cell_type": "code",
   "execution_count": null,
   "metadata": {
    "scrolled": true
   },
   "outputs": [],
   "source": [
    "overlappingUsersRatings = uiMatrixBool.T.dot(uiMatrixBool)\n",
    "overlappingUsersRatings"
   ]
  },
  {
   "cell_type": "markdown",
   "metadata": {},
   "source": [
    "Check some statistics. The maximum and minimum number of ratings."
   ]
  },
  {
   "cell_type": "code",
   "execution_count": null,
   "metadata": {},
   "outputs": [],
   "source": [
    "overlappingUsersRatings.max(axis=0).max()"
   ]
  },
  {
   "cell_type": "code",
   "execution_count": null,
   "metadata": {},
   "outputs": [],
   "source": [
    "overlappingUsersRatings.min(axis=0).min()"
   ]
  },
  {
   "cell_type": "markdown",
   "metadata": {},
   "source": [
    "Mantain only the items with overlapping ratings over a specific threshold."
   ]
  },
  {
   "cell_type": "code",
   "execution_count": null,
   "metadata": {},
   "outputs": [],
   "source": [
    "toDrop = overlappingUsersRatings.min(axis=0) > 3\n",
    "toDrop.head(10)"
   ]
  },
  {
   "cell_type": "code",
   "execution_count": null,
   "metadata": {
    "scrolled": true
   },
   "outputs": [],
   "source": [
    "selectedItems = overlappingUsersRatings.loc[toDrop, toDrop]\n",
    "selectedItems.head(5)"
   ]
  },
  {
   "cell_type": "markdown",
   "metadata": {},
   "source": [
    "We just need the list of items to compare between each other"
   ]
  },
  {
   "cell_type": "code",
   "execution_count": null,
   "metadata": {},
   "outputs": [],
   "source": [
    "selectedIndex = selectedItems.index\n",
    "selectedIndex"
   ]
  },
  {
   "cell_type": "markdown",
   "metadata": {},
   "source": [
    "## Precompute similarities"
   ]
  },
  {
   "cell_type": "code",
   "execution_count": null,
   "metadata": {
    "scrolled": true
   },
   "outputs": [],
   "source": [
    "uiMatrixSelection = uiMatrixNorm[selectedIndex]\n",
    "uiMatrixSelection"
   ]
  },
  {
   "cell_type": "markdown",
   "metadata": {},
   "source": [
    "Normalize the ratings per user"
   ]
  },
  {
   "cell_type": "code",
   "execution_count": null,
   "metadata": {},
   "outputs": [],
   "source": [
    "uiMatrixSelection = uiMatrixSelection.sub(uiMatrixSelection.mean(axis=1), axis=0)\n",
    "uiMatrixSelection"
   ]
  },
  {
   "cell_type": "markdown",
   "metadata": {},
   "source": [
    "Compute item-item similarity"
   ]
  },
  {
   "cell_type": "code",
   "execution_count": null,
   "metadata": {},
   "outputs": [],
   "source": [
    "iiSimMatrix = pd.DataFrame().reindex_like(selectedItems)\n",
    "iiSimMatrix.shape#head(5)"
   ]
  },
  {
   "cell_type": "code",
   "execution_count": null,
   "metadata": {
    "scrolled": false
   },
   "outputs": [],
   "source": [
    "for item1 in selectedIndex:\n",
    "    item1Ratings = uiMatrixSelection[item1]\n",
    "    for item2 in selectedIndex:\n",
    "        item2Ratings = uiMatrixSelection[item2]\n",
    "        iiSimMatrix.at[item1, item2] = cosine_sim(item1Ratings, item2Ratings)\n",
    "\n",
    "iiSimMatrix"
   ]
  },
  {
   "cell_type": "markdown",
   "metadata": {},
   "source": [
    "Visualizing"
   ]
  },
  {
   "cell_type": "code",
   "execution_count": null,
   "metadata": {},
   "outputs": [],
   "source": [
    "import matplotlib.pyplot as plt\n",
    "\n",
    "plt.pcolor(iiSimMatrix)\n",
    "plt.yticks(np.arange(0.5, len(iiSimMatrix.index), 1), iiSimMatrix.index)\n",
    "plt.xticks(np.arange(0.5, len(iiSimMatrix.columns), 1), iiSimMatrix.columns)\n",
    "plt.show()"
   ]
  },
  {
   "cell_type": "markdown",
   "metadata": {},
   "source": [
    "Visualizing 2"
   ]
  },
  {
   "cell_type": "code",
   "execution_count": null,
   "metadata": {},
   "outputs": [],
   "source": [
    "import seaborn as sns\n",
    "\n",
    "cm = sns.light_palette(\"green\", as_cmap=True)\n",
    "\n",
    "s = iiSimMatrix.style.background_gradient(cmap=cm)\n",
    "s"
   ]
  },
  {
   "cell_type": "markdown",
   "metadata": {},
   "source": [
    "# Exercise n. 1\n",
    "Convert the code in the function `itemCF_prediction(df, currentUser, currentItem)` where the parametes are:\n",
    "\n",
    "- `df` is a dataframe containing the user-item ratings\n",
    "- `currentUser` is the user for which we want to predict the rating\n",
    "- `currentItem` is the items for that we want to predict the rating \n",
    "\n",
    "Predict the rating for user id 400005 and item id 4501244"
   ]
  },
  {
   "cell_type": "markdown",
   "metadata": {},
   "source": [
    "# Exercise n. 2\n",
    "\n",
    "Convert the code in the function itemCF_recommend(df, currentUser, currentItem, numItems) where the parametes are:\n",
    "- `df` is a dataframe containing the user-item ratings\n",
    "- `currentUser` is the user for which we want to predict the rating\n",
    "- `currentItem` is the items from which we start the comparison \n",
    "- `numItems` is the number of items we want to return for suggesting to the current user\n",
    "\n",
    "Recommend the top-3 items for user id 400005 starting from item id 4501244"
   ]
  },
  {
   "cell_type": "markdown",
   "metadata": {},
   "source": [
    "- Course Instructor: Dr. Paolo Mengoni (Visiting Scholar, School of Communication, Hong Kong Baptist University) \n",
    "  - pmengoni@hkbu.edu.hk\n",
    "\n",
    "- The codes in this notebook take insipiration from various sources. All codes are for educational purposes only and released under the CC1.0. "
   ]
  }
 ],
 "metadata": {
  "anaconda-cloud": {},
  "kernelspec": {
   "display_name": "Python 3",
   "language": "python",
   "name": "python3"
  },
  "language_info": {
   "codemirror_mode": {
    "name": "ipython",
    "version": 3
   },
   "file_extension": ".py",
   "mimetype": "text/x-python",
   "name": "python",
   "nbconvert_exporter": "python",
   "pygments_lexer": "ipython3",
   "version": "3.7.3"
  },
  "toc": {
   "nav_menu": {},
   "number_sections": true,
   "sideBar": true,
   "skip_h1_title": false,
   "title_cell": "Table of Contents",
   "title_sidebar": "Contents",
   "toc_cell": false,
   "toc_position": {},
   "toc_section_display": true,
   "toc_window_display": false
  }
 },
 "nbformat": 4,
 "nbformat_minor": 1
}
