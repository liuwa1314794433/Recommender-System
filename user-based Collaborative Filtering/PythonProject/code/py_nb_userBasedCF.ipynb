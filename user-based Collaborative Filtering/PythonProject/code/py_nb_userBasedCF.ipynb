{
 "cells": [
  {
   "cell_type": "markdown",
   "metadata": {},
   "source": [
    "# COMM7380 Recommender Systems for Digital Media"
   ]
  },
  {
   "cell_type": "code",
   "execution_count": 1,
   "metadata": {},
   "outputs": [
    {
     "name": "stdout",
     "output_type": "stream",
     "text": [
      "Requirement already satisfied: matplotlib in c:\\users\\brix\\anaconda3\\lib\\site-packages (3.1.0)\n",
      "Requirement already satisfied: cycler>=0.10 in c:\\users\\brix\\anaconda3\\lib\\site-packages (from matplotlib) (0.10.0)\n",
      "Requirement already satisfied: kiwisolver>=1.0.1 in c:\\users\\brix\\anaconda3\\lib\\site-packages (from matplotlib) (1.1.0)\n",
      "Requirement already satisfied: pyparsing!=2.0.4,!=2.1.2,!=2.1.6,>=2.0.1 in c:\\users\\brix\\anaconda3\\lib\\site-packages (from matplotlib) (2.4.0)\n",
      "Requirement already satisfied: python-dateutil>=2.1 in c:\\users\\brix\\anaconda3\\lib\\site-packages (from matplotlib) (2.8.0)\n",
      "Requirement already satisfied: numpy>=1.11 in c:\\users\\brix\\anaconda3\\lib\\site-packages (from matplotlib) (1.16.4)\n",
      "Requirement already satisfied: six in c:\\users\\brix\\anaconda3\\lib\\site-packages (from cycler>=0.10->matplotlib) (1.12.0)\n",
      "Requirement already satisfied: setuptools in c:\\users\\brix\\anaconda3\\lib\\site-packages (from kiwisolver>=1.0.1->matplotlib) (41.0.1)\n",
      "Requirement already satisfied: pandas in c:\\users\\brix\\anaconda3\\lib\\site-packages (0.24.2)\n",
      "Requirement already satisfied: python-dateutil>=2.5.0 in c:\\users\\brix\\anaconda3\\lib\\site-packages (from pandas) (2.8.0)\n",
      "Requirement already satisfied: numpy>=1.12.0 in c:\\users\\brix\\anaconda3\\lib\\site-packages (from pandas) (1.16.4)\n",
      "Requirement already satisfied: pytz>=2011k in c:\\users\\brix\\anaconda3\\lib\\site-packages (from pandas) (2019.1)\n",
      "Requirement already satisfied: six>=1.5 in c:\\users\\brix\\anaconda3\\lib\\site-packages (from python-dateutil>=2.5.0->pandas) (1.12.0)\n",
      "Requirement already satisfied: numpy in c:\\users\\brix\\anaconda3\\lib\\site-packages (1.16.4)\n"
     ]
    }
   ],
   "source": [
    "# Install NetworkX, Matplotlib, Pandas, Numpy using pip package in the current Jupyter kernel\n",
    "import sys\n",
    "!{sys.executable} -m pip install matplotlib\n",
    "!{sys.executable} -m pip install pandas\n",
    "!{sys.executable} -m pip install numpy"
   ]
  },
  {
   "cell_type": "markdown",
   "metadata": {},
   "source": [
    "# User Behaviour and the User-Item Matrix"
   ]
  },
  {
   "cell_type": "markdown",
   "metadata": {},
   "source": [
    "## Importing and knowing your data "
   ]
  },
  {
   "cell_type": "code",
   "execution_count": 2,
   "metadata": {},
   "outputs": [],
   "source": [
    "import pandas as pd \n",
    "import numpy as np"
   ]
  },
  {
   "cell_type": "code",
   "execution_count": 3,
   "metadata": {},
   "outputs": [],
   "source": [
    "evidence = pd.read_csv('../data/' + 'collector_log.csv')"
   ]
  },
  {
   "cell_type": "code",
   "execution_count": 4,
   "metadata": {
    "scrolled": false
   },
   "outputs": [
    {
     "name": "stdout",
     "output_type": "stream",
     "text": [
      "<class 'pandas.core.frame.DataFrame'>\n"
     ]
    },
    {
     "data": {
      "text/html": [
       "<div>\n",
       "<style scoped>\n",
       "    .dataframe tbody tr th:only-of-type {\n",
       "        vertical-align: middle;\n",
       "    }\n",
       "\n",
       "    .dataframe tbody tr th {\n",
       "        vertical-align: top;\n",
       "    }\n",
       "\n",
       "    .dataframe thead th {\n",
       "        text-align: right;\n",
       "    }\n",
       "</style>\n",
       "<table border=\"1\" class=\"dataframe\">\n",
       "  <thead>\n",
       "    <tr style=\"text-align: right;\">\n",
       "      <th></th>\n",
       "      <th>id</th>\n",
       "      <th>created</th>\n",
       "      <th>content_id</th>\n",
       "      <th>event</th>\n",
       "      <th>session_id</th>\n",
       "      <th>user_id</th>\n",
       "    </tr>\n",
       "  </thead>\n",
       "  <tbody>\n",
       "    <tr>\n",
       "      <th>0</th>\n",
       "      <td>3</td>\n",
       "      <td>14/01/2020 17:54</td>\n",
       "      <td>4501244</td>\n",
       "      <td>details</td>\n",
       "      <td>794773</td>\n",
       "      <td>400003</td>\n",
       "    </tr>\n",
       "    <tr>\n",
       "      <th>1</th>\n",
       "      <td>4</td>\n",
       "      <td>14/01/2020 17:54</td>\n",
       "      <td>3521164</td>\n",
       "      <td>moreDetails</td>\n",
       "      <td>794773</td>\n",
       "      <td>400003</td>\n",
       "    </tr>\n",
       "    <tr>\n",
       "      <th>2</th>\n",
       "      <td>5</td>\n",
       "      <td>14/01/2020 17:54</td>\n",
       "      <td>3640424</td>\n",
       "      <td>details</td>\n",
       "      <td>441002</td>\n",
       "      <td>400005</td>\n",
       "    </tr>\n",
       "    <tr>\n",
       "      <th>3</th>\n",
       "      <td>6</td>\n",
       "      <td>14/01/2020 17:54</td>\n",
       "      <td>2823054</td>\n",
       "      <td>moreDetails</td>\n",
       "      <td>885440</td>\n",
       "      <td>400001</td>\n",
       "    </tr>\n",
       "    <tr>\n",
       "      <th>4</th>\n",
       "      <td>7</td>\n",
       "      <td>14/01/2020 17:54</td>\n",
       "      <td>3553976</td>\n",
       "      <td>genreView</td>\n",
       "      <td>441003</td>\n",
       "      <td>400005</td>\n",
       "    </tr>\n",
       "  </tbody>\n",
       "</table>\n",
       "</div>"
      ],
      "text/plain": [
       "   id           created  content_id        event  session_id  user_id\n",
       "0   3  14/01/2020 17:54     4501244      details      794773   400003\n",
       "1   4  14/01/2020 17:54     3521164  moreDetails      794773   400003\n",
       "2   5  14/01/2020 17:54     3640424      details      441002   400005\n",
       "3   6  14/01/2020 17:54     2823054  moreDetails      885440   400001\n",
       "4   7  14/01/2020 17:54     3553976    genreView      441003   400005"
      ]
     },
     "execution_count": 4,
     "metadata": {},
     "output_type": "execute_result"
    }
   ],
   "source": [
    "# checkin the type and take a glance at the head \n",
    "print(type(evidence))\n",
    "evidence.head(5)"
   ]
  },
  {
   "cell_type": "code",
   "execution_count": 5,
   "metadata": {},
   "outputs": [
    {
     "name": "stdout",
     "output_type": "stream",
     "text": [
      "<class 'numpy.ndarray'>\n",
      "103\n"
     ]
    }
   ],
   "source": [
    "users = evidence.user_id.unique()\n",
    "content = evidence.content_id.unique()\n",
    "print(type(content))\n",
    "print(len(content))"
   ]
  },
  {
   "cell_type": "markdown",
   "metadata": {},
   "source": [
    "# Implicit Ratings\n",
    "## Binary Matrix\n",
    "Let's create a user-item binary matrix from the \"buy\" events"
   ]
  },
  {
   "cell_type": "code",
   "execution_count": 6,
   "metadata": {
    "scrolled": true
   },
   "outputs": [
    {
     "data": {
      "text/html": [
       "<div>\n",
       "<style scoped>\n",
       "    .dataframe tbody tr th:only-of-type {\n",
       "        vertical-align: middle;\n",
       "    }\n",
       "\n",
       "    .dataframe tbody tr th {\n",
       "        vertical-align: top;\n",
       "    }\n",
       "\n",
       "    .dataframe thead th {\n",
       "        text-align: right;\n",
       "    }\n",
       "</style>\n",
       "<table border=\"1\" class=\"dataframe\">\n",
       "  <thead>\n",
       "    <tr style=\"text-align: right;\">\n",
       "      <th></th>\n",
       "      <th>4501244</th>\n",
       "      <th>3521164</th>\n",
       "      <th>3640424</th>\n",
       "      <th>2823054</th>\n",
       "      <th>3553976</th>\n",
       "      <th>3470600</th>\n",
       "      <th>4513674</th>\n",
       "      <th>4698684</th>\n",
       "      <th>3315342</th>\n",
       "      <th>3874544</th>\n",
       "      <th>...</th>\n",
       "      <th>4196776</th>\n",
       "      <th>2948356</th>\n",
       "      <th>1355644</th>\n",
       "      <th>3300542</th>\n",
       "      <th>5247022</th>\n",
       "      <th>2140479</th>\n",
       "      <th>1083452</th>\n",
       "      <th>1179933</th>\n",
       "      <th>3410834</th>\n",
       "      <th>3553442</th>\n",
       "    </tr>\n",
       "  </thead>\n",
       "  <tbody>\n",
       "    <tr>\n",
       "      <th>400003</th>\n",
       "      <td>NaN</td>\n",
       "      <td>NaN</td>\n",
       "      <td>NaN</td>\n",
       "      <td>NaN</td>\n",
       "      <td>NaN</td>\n",
       "      <td>NaN</td>\n",
       "      <td>NaN</td>\n",
       "      <td>NaN</td>\n",
       "      <td>NaN</td>\n",
       "      <td>NaN</td>\n",
       "      <td>...</td>\n",
       "      <td>NaN</td>\n",
       "      <td>NaN</td>\n",
       "      <td>NaN</td>\n",
       "      <td>NaN</td>\n",
       "      <td>NaN</td>\n",
       "      <td>NaN</td>\n",
       "      <td>NaN</td>\n",
       "      <td>NaN</td>\n",
       "      <td>NaN</td>\n",
       "      <td>NaN</td>\n",
       "    </tr>\n",
       "    <tr>\n",
       "      <th>400005</th>\n",
       "      <td>NaN</td>\n",
       "      <td>NaN</td>\n",
       "      <td>NaN</td>\n",
       "      <td>NaN</td>\n",
       "      <td>NaN</td>\n",
       "      <td>NaN</td>\n",
       "      <td>NaN</td>\n",
       "      <td>NaN</td>\n",
       "      <td>NaN</td>\n",
       "      <td>NaN</td>\n",
       "      <td>...</td>\n",
       "      <td>NaN</td>\n",
       "      <td>NaN</td>\n",
       "      <td>NaN</td>\n",
       "      <td>NaN</td>\n",
       "      <td>NaN</td>\n",
       "      <td>NaN</td>\n",
       "      <td>NaN</td>\n",
       "      <td>NaN</td>\n",
       "      <td>NaN</td>\n",
       "      <td>NaN</td>\n",
       "    </tr>\n",
       "  </tbody>\n",
       "</table>\n",
       "<p>2 rows × 103 columns</p>\n",
       "</div>"
      ],
      "text/plain": [
       "       4501244 3521164 3640424 2823054 3553976 3470600 4513674 4698684  \\\n",
       "400003     NaN     NaN     NaN     NaN     NaN     NaN     NaN     NaN   \n",
       "400005     NaN     NaN     NaN     NaN     NaN     NaN     NaN     NaN   \n",
       "\n",
       "       3315342 3874544  ... 4196776 2948356 1355644 3300542 5247022 2140479  \\\n",
       "400003     NaN     NaN  ...     NaN     NaN     NaN     NaN     NaN     NaN   \n",
       "400005     NaN     NaN  ...     NaN     NaN     NaN     NaN     NaN     NaN   \n",
       "\n",
       "       1083452 1179933 3410834 3553442  \n",
       "400003     NaN     NaN     NaN     NaN  \n",
       "400005     NaN     NaN     NaN     NaN  \n",
       "\n",
       "[2 rows x 103 columns]"
      ]
     },
     "execution_count": 6,
     "metadata": {},
     "output_type": "execute_result"
    }
   ],
   "source": [
    "#Create a user-item binary matrix\n",
    "uiBuyMatrix = pd.DataFrame(columns=content, index=users)\n",
    "uiBuyMatrix.head(2)"
   ]
  },
  {
   "cell_type": "code",
   "execution_count": 7,
   "metadata": {},
   "outputs": [
    {
     "data": {
      "text/plain": [
       "array(['details', 'moreDetails', 'genreView', 'addToList', 'buy'],\n",
       "      dtype=object)"
      ]
     },
     "execution_count": 7,
     "metadata": {},
     "output_type": "execute_result"
    }
   ],
   "source": [
    "evidence.event.unique()"
   ]
  },
  {
   "cell_type": "markdown",
   "metadata": {},
   "source": [
    "Select only the \"buy\" events"
   ]
  },
  {
   "cell_type": "code",
   "execution_count": 8,
   "metadata": {
    "scrolled": false
   },
   "outputs": [
    {
     "data": {
      "text/html": [
       "<div>\n",
       "<style scoped>\n",
       "    .dataframe tbody tr th:only-of-type {\n",
       "        vertical-align: middle;\n",
       "    }\n",
       "\n",
       "    .dataframe tbody tr th {\n",
       "        vertical-align: top;\n",
       "    }\n",
       "\n",
       "    .dataframe thead th {\n",
       "        text-align: right;\n",
       "    }\n",
       "</style>\n",
       "<table border=\"1\" class=\"dataframe\">\n",
       "  <thead>\n",
       "    <tr style=\"text-align: right;\">\n",
       "      <th></th>\n",
       "      <th>id</th>\n",
       "      <th>created</th>\n",
       "      <th>content_id</th>\n",
       "      <th>event</th>\n",
       "      <th>session_id</th>\n",
       "      <th>user_id</th>\n",
       "    </tr>\n",
       "  </thead>\n",
       "  <tbody>\n",
       "    <tr>\n",
       "      <th>92</th>\n",
       "      <td>95</td>\n",
       "      <td>14/01/2020 17:54</td>\n",
       "      <td>4501244</td>\n",
       "      <td>buy</td>\n",
       "      <td>794776</td>\n",
       "      <td>400003</td>\n",
       "    </tr>\n",
       "    <tr>\n",
       "      <th>131</th>\n",
       "      <td>134</td>\n",
       "      <td>14/01/2020 17:54</td>\n",
       "      <td>2937696</td>\n",
       "      <td>buy</td>\n",
       "      <td>885441</td>\n",
       "      <td>400001</td>\n",
       "    </tr>\n",
       "    <tr>\n",
       "      <th>358</th>\n",
       "      <td>361</td>\n",
       "      <td>14/01/2020 17:54</td>\n",
       "      <td>3874544</td>\n",
       "      <td>buy</td>\n",
       "      <td>885444</td>\n",
       "      <td>400001</td>\n",
       "    </tr>\n",
       "    <tr>\n",
       "      <th>612</th>\n",
       "      <td>615</td>\n",
       "      <td>14/01/2020 17:54</td>\n",
       "      <td>3949660</td>\n",
       "      <td>buy</td>\n",
       "      <td>885445</td>\n",
       "      <td>400001</td>\n",
       "    </tr>\n",
       "    <tr>\n",
       "      <th>707</th>\n",
       "      <td>710</td>\n",
       "      <td>14/01/2020 17:54</td>\n",
       "      <td>5512872</td>\n",
       "      <td>buy</td>\n",
       "      <td>42460</td>\n",
       "      <td>400006</td>\n",
       "    </tr>\n",
       "  </tbody>\n",
       "</table>\n",
       "</div>"
      ],
      "text/plain": [
       "      id           created  content_id event  session_id  user_id\n",
       "92    95  14/01/2020 17:54     4501244   buy      794776   400003\n",
       "131  134  14/01/2020 17:54     2937696   buy      885441   400001\n",
       "358  361  14/01/2020 17:54     3874544   buy      885444   400001\n",
       "612  615  14/01/2020 17:54     3949660   buy      885445   400001\n",
       "707  710  14/01/2020 17:54     5512872   buy       42460   400006"
      ]
     },
     "execution_count": 8,
     "metadata": {},
     "output_type": "execute_result"
    }
   ],
   "source": [
    "buyEvidence = evidence[evidence['event'] == 'buy']\n",
    "buyEvidence.head(5)"
   ]
  },
  {
   "cell_type": "markdown",
   "metadata": {},
   "source": [
    "Create the user-item matrix `uiBuyMatrix` for the buy events"
   ]
  },
  {
   "cell_type": "code",
   "execution_count": 9,
   "metadata": {},
   "outputs": [],
   "source": [
    "for index, row in buyEvidence.iterrows():\n",
    "    currentUser = row['user_id']\n",
    "    currentContent = row['content_id']\n",
    "    uiBuyMatrix.at[currentUser, currentContent] = 1"
   ]
  },
  {
   "cell_type": "code",
   "execution_count": 10,
   "metadata": {
    "scrolled": true
   },
   "outputs": [
    {
     "name": "stdout",
     "output_type": "stream",
     "text": [
      "       4501244 3521164 3640424 2823054 3553976 3470600 4513674 4698684  \\\n",
      "400003       1       1       1       1       1       1       1       1   \n",
      "400005     NaN     NaN       1     NaN       1     NaN       1     NaN   \n",
      "400001       1       1       1     NaN       1       1       1       1   \n",
      "400006       1     NaN       1       1     NaN       1       1       1   \n",
      "400002     NaN     NaN       1       1       1       1       1     NaN   \n",
      "400004     NaN     NaN       1     NaN     NaN     NaN     NaN     NaN   \n",
      "\n",
      "       3315342 3874544  ... 4196776 2948356 1355644 3300542 5247022 2140479  \\\n",
      "400003       1       1  ...     NaN     NaN       1     NaN     NaN       1   \n",
      "400005       1     NaN  ...     NaN     NaN       1     NaN     NaN       1   \n",
      "400001       1       1  ...     NaN     NaN       1     NaN       1       1   \n",
      "400006     NaN       1  ...     NaN     NaN     NaN     NaN       1     NaN   \n",
      "400002       1     NaN  ...       1       1       1     NaN       1     NaN   \n",
      "400004       1     NaN  ...       1       1     NaN       1     NaN     NaN   \n",
      "\n",
      "       1083452 1179933 3410834 3553442  \n",
      "400003     NaN       1     NaN       1  \n",
      "400005       1       1     NaN     NaN  \n",
      "400001       1       1     NaN       1  \n",
      "400006     NaN     NaN     NaN       1  \n",
      "400002       1     NaN       1       1  \n",
      "400004     NaN     NaN       1     NaN  \n",
      "\n",
      "[6 rows x 103 columns]\n"
     ]
    }
   ],
   "source": [
    "print(uiBuyMatrix)"
   ]
  },
  {
   "cell_type": "markdown",
   "metadata": {},
   "source": [
    "## Behavioural Implicit Ratings\n",
    "\n",
    "Using the formula introduced during lecture\n",
    "\n",
    "$${IR}_(i,u) = \\left(w_1*{\\#event}_1\\right)+\\left(w_2*{\\#event}_2\\right)+\\dots+\\left(w_n*{\\#event}_n\\right)$$"
   ]
  },
  {
   "cell_type": "code",
   "execution_count": 11,
   "metadata": {
    "scrolled": true
   },
   "outputs": [
    {
     "data": {
      "text/html": [
       "<div>\n",
       "<style scoped>\n",
       "    .dataframe tbody tr th:only-of-type {\n",
       "        vertical-align: middle;\n",
       "    }\n",
       "\n",
       "    .dataframe tbody tr th {\n",
       "        vertical-align: top;\n",
       "    }\n",
       "\n",
       "    .dataframe thead th {\n",
       "        text-align: right;\n",
       "    }\n",
       "</style>\n",
       "<table border=\"1\" class=\"dataframe\">\n",
       "  <thead>\n",
       "    <tr style=\"text-align: right;\">\n",
       "      <th></th>\n",
       "      <th>4501244</th>\n",
       "      <th>3521164</th>\n",
       "      <th>3640424</th>\n",
       "      <th>2823054</th>\n",
       "      <th>3553976</th>\n",
       "      <th>3470600</th>\n",
       "      <th>4513674</th>\n",
       "      <th>4698684</th>\n",
       "      <th>3315342</th>\n",
       "      <th>3874544</th>\n",
       "      <th>...</th>\n",
       "      <th>4196776</th>\n",
       "      <th>2948356</th>\n",
       "      <th>1355644</th>\n",
       "      <th>3300542</th>\n",
       "      <th>5247022</th>\n",
       "      <th>2140479</th>\n",
       "      <th>1083452</th>\n",
       "      <th>1179933</th>\n",
       "      <th>3410834</th>\n",
       "      <th>3553442</th>\n",
       "    </tr>\n",
       "  </thead>\n",
       "  <tbody>\n",
       "    <tr>\n",
       "      <th>400003</th>\n",
       "      <td>NaN</td>\n",
       "      <td>NaN</td>\n",
       "      <td>NaN</td>\n",
       "      <td>NaN</td>\n",
       "      <td>NaN</td>\n",
       "      <td>NaN</td>\n",
       "      <td>NaN</td>\n",
       "      <td>NaN</td>\n",
       "      <td>NaN</td>\n",
       "      <td>NaN</td>\n",
       "      <td>...</td>\n",
       "      <td>NaN</td>\n",
       "      <td>NaN</td>\n",
       "      <td>NaN</td>\n",
       "      <td>NaN</td>\n",
       "      <td>NaN</td>\n",
       "      <td>NaN</td>\n",
       "      <td>NaN</td>\n",
       "      <td>NaN</td>\n",
       "      <td>NaN</td>\n",
       "      <td>NaN</td>\n",
       "    </tr>\n",
       "    <tr>\n",
       "      <th>400005</th>\n",
       "      <td>NaN</td>\n",
       "      <td>NaN</td>\n",
       "      <td>NaN</td>\n",
       "      <td>NaN</td>\n",
       "      <td>NaN</td>\n",
       "      <td>NaN</td>\n",
       "      <td>NaN</td>\n",
       "      <td>NaN</td>\n",
       "      <td>NaN</td>\n",
       "      <td>NaN</td>\n",
       "      <td>...</td>\n",
       "      <td>NaN</td>\n",
       "      <td>NaN</td>\n",
       "      <td>NaN</td>\n",
       "      <td>NaN</td>\n",
       "      <td>NaN</td>\n",
       "      <td>NaN</td>\n",
       "      <td>NaN</td>\n",
       "      <td>NaN</td>\n",
       "      <td>NaN</td>\n",
       "      <td>NaN</td>\n",
       "    </tr>\n",
       "  </tbody>\n",
       "</table>\n",
       "<p>2 rows × 103 columns</p>\n",
       "</div>"
      ],
      "text/plain": [
       "       4501244 3521164 3640424 2823054 3553976 3470600 4513674 4698684  \\\n",
       "400003     NaN     NaN     NaN     NaN     NaN     NaN     NaN     NaN   \n",
       "400005     NaN     NaN     NaN     NaN     NaN     NaN     NaN     NaN   \n",
       "\n",
       "       3315342 3874544  ... 4196776 2948356 1355644 3300542 5247022 2140479  \\\n",
       "400003     NaN     NaN  ...     NaN     NaN     NaN     NaN     NaN     NaN   \n",
       "400005     NaN     NaN  ...     NaN     NaN     NaN     NaN     NaN     NaN   \n",
       "\n",
       "       1083452 1179933 3410834 3553442  \n",
       "400003     NaN     NaN     NaN     NaN  \n",
       "400005     NaN     NaN     NaN     NaN  \n",
       "\n",
       "[2 rows x 103 columns]"
      ]
     },
     "execution_count": 11,
     "metadata": {},
     "output_type": "execute_result"
    }
   ],
   "source": [
    "#Create a user-item matrix\n",
    "uiMatrix = pd.DataFrame(columns=content, index=users)\n",
    "uiMatrix.head(2)"
   ]
  },
  {
   "cell_type": "markdown",
   "metadata": {},
   "source": [
    "Type of events recorded in the logs"
   ]
  },
  {
   "cell_type": "code",
   "execution_count": 12,
   "metadata": {},
   "outputs": [
    {
     "name": "stdout",
     "output_type": "stream",
     "text": [
      "['details' 'moreDetails' 'genreView' 'addToList' 'buy']\n"
     ]
    }
   ],
   "source": [
    "eventTypes = evidence.event.unique()\n",
    "print(eventTypes)"
   ]
  },
  {
   "cell_type": "markdown",
   "metadata": {},
   "source": [
    "Give a weight to each of them"
   ]
  },
  {
   "cell_type": "code",
   "execution_count": 13,
   "metadata": {},
   "outputs": [],
   "source": [
    "eventWeights = {\n",
    "    'details': 15,\n",
    "    'moreDetails': 50,\n",
    "    'genreView': 0,\n",
    "    'addToList': 0,\n",
    "    'buy': 100}"
   ]
  },
  {
   "cell_type": "markdown",
   "metadata": {},
   "source": [
    "Compute the Implicit Rating for each user-item combination.\n",
    "Populate the user-item matrix `uiMatrix` with the IR values."
   ]
  },
  {
   "cell_type": "code",
   "execution_count": 14,
   "metadata": {},
   "outputs": [],
   "source": [
    "# Iterate the evidence\n",
    "for index, row in evidence.iterrows():\n",
    "    # Select the user and items involved\n",
    "    currentUser = row['user_id']\n",
    "    currentContent = row['content_id']\n",
    "    \n",
    "    # Extract the appropriate weight for the event\n",
    "    w = eventWeights[row['event']]\n",
    "    \n",
    "    # Find the value eventually stored for the current user-item combination\n",
    "    currentValue = uiMatrix.at[currentUser, currentContent]\n",
    "    if np.isnan(currentValue):\n",
    "        currentValue = 0\n",
    "        \n",
    "    # Compute the new value and update the user-item matrix\n",
    "    updatedValue = currentValue + w #+ (1 * w)\n",
    "    uiMatrix.at[currentUser, currentContent] = updatedValue\n",
    "    "
   ]
  },
  {
   "cell_type": "markdown",
   "metadata": {},
   "source": [
    "# Normalise the matrix\n",
    "Update the user-item matrix by normalizing the values between 0 and 10. \n",
    "\n",
    "**Note**: NaN values should be maintained as NaN"
   ]
  },
  {
   "cell_type": "code",
   "execution_count": 15,
   "metadata": {},
   "outputs": [],
   "source": [
    "uiMatrixNorm = uiMatrix.apply(\n",
    "    lambda x: ((x - np.nanmin(uiMatrix.values))/(np.nanmax(uiMatrix.values) - np.nanmin(uiMatrix.values)))*10\n",
    "    )"
   ]
  },
  {
   "cell_type": "code",
   "execution_count": 16,
   "metadata": {},
   "outputs": [
    {
     "data": {
      "text/html": [
       "<div>\n",
       "<style scoped>\n",
       "    .dataframe tbody tr th:only-of-type {\n",
       "        vertical-align: middle;\n",
       "    }\n",
       "\n",
       "    .dataframe tbody tr th {\n",
       "        vertical-align: top;\n",
       "    }\n",
       "\n",
       "    .dataframe thead th {\n",
       "        text-align: right;\n",
       "    }\n",
       "</style>\n",
       "<table border=\"1\" class=\"dataframe\">\n",
       "  <thead>\n",
       "    <tr style=\"text-align: right;\">\n",
       "      <th></th>\n",
       "      <th>4501244</th>\n",
       "      <th>3521164</th>\n",
       "      <th>3640424</th>\n",
       "      <th>2823054</th>\n",
       "      <th>3553976</th>\n",
       "      <th>3470600</th>\n",
       "      <th>4513674</th>\n",
       "      <th>4698684</th>\n",
       "      <th>3315342</th>\n",
       "      <th>3874544</th>\n",
       "      <th>...</th>\n",
       "      <th>4196776</th>\n",
       "      <th>2948356</th>\n",
       "      <th>1355644</th>\n",
       "      <th>3300542</th>\n",
       "      <th>5247022</th>\n",
       "      <th>2140479</th>\n",
       "      <th>1083452</th>\n",
       "      <th>1179933</th>\n",
       "      <th>3410834</th>\n",
       "      <th>3553442</th>\n",
       "    </tr>\n",
       "  </thead>\n",
       "  <tbody>\n",
       "    <tr>\n",
       "      <th>400003</th>\n",
       "      <td>4.94342</td>\n",
       "      <td>4.76337</td>\n",
       "      <td>4.21296</td>\n",
       "      <td>3.97119</td>\n",
       "      <td>2.84979</td>\n",
       "      <td>4.26955</td>\n",
       "      <td>7.25823</td>\n",
       "      <td>4.25926</td>\n",
       "      <td>4.01749</td>\n",
       "      <td>4.30556</td>\n",
       "      <td>...</td>\n",
       "      <td>1.65638</td>\n",
       "      <td>2.08333</td>\n",
       "      <td>2.80864</td>\n",
       "      <td>1.65123</td>\n",
       "      <td>3.6677</td>\n",
       "      <td>2.90638</td>\n",
       "      <td>2.95267</td>\n",
       "      <td>2.72634</td>\n",
       "      <td>2.03189</td>\n",
       "      <td>3.74486</td>\n",
       "    </tr>\n",
       "    <tr>\n",
       "      <th>400005</th>\n",
       "      <td>NaN</td>\n",
       "      <td>NaN</td>\n",
       "      <td>7.7572</td>\n",
       "      <td>NaN</td>\n",
       "      <td>7.99383</td>\n",
       "      <td>NaN</td>\n",
       "      <td>8.05041</td>\n",
       "      <td>NaN</td>\n",
       "      <td>8.17901</td>\n",
       "      <td>NaN</td>\n",
       "      <td>...</td>\n",
       "      <td>0.0360082</td>\n",
       "      <td>0.0668724</td>\n",
       "      <td>7.83436</td>\n",
       "      <td>0</td>\n",
       "      <td>NaN</td>\n",
       "      <td>8.30761</td>\n",
       "      <td>9.38272</td>\n",
       "      <td>8.15844</td>\n",
       "      <td>0</td>\n",
       "      <td>NaN</td>\n",
       "    </tr>\n",
       "    <tr>\n",
       "      <th>400001</th>\n",
       "      <td>4.93313</td>\n",
       "      <td>4.70679</td>\n",
       "      <td>4.36214</td>\n",
       "      <td>4.09979</td>\n",
       "      <td>2.38683</td>\n",
       "      <td>5.36523</td>\n",
       "      <td>7.00617</td>\n",
       "      <td>4.63477</td>\n",
       "      <td>4.34156</td>\n",
       "      <td>4.55761</td>\n",
       "      <td>...</td>\n",
       "      <td>1.66152</td>\n",
       "      <td>1.74897</td>\n",
       "      <td>2.1965</td>\n",
       "      <td>1.59979</td>\n",
       "      <td>4.71708</td>\n",
       "      <td>2.5</td>\n",
       "      <td>2.37654</td>\n",
       "      <td>2.59259</td>\n",
       "      <td>1.86728</td>\n",
       "      <td>4.11008</td>\n",
       "    </tr>\n",
       "    <tr>\n",
       "      <th>400006</th>\n",
       "      <td>7.81893</td>\n",
       "      <td>7.88066</td>\n",
       "      <td>0.185185</td>\n",
       "      <td>8.93519</td>\n",
       "      <td>NaN</td>\n",
       "      <td>9.49074</td>\n",
       "      <td>9.07407</td>\n",
       "      <td>8.8323</td>\n",
       "      <td>0.0154321</td>\n",
       "      <td>9.79938</td>\n",
       "      <td>...</td>\n",
       "      <td>0.0462963</td>\n",
       "      <td>0.221193</td>\n",
       "      <td>NaN</td>\n",
       "      <td>0.138889</td>\n",
       "      <td>7.9321</td>\n",
       "      <td>NaN</td>\n",
       "      <td>NaN</td>\n",
       "      <td>NaN</td>\n",
       "      <td>0.0154321</td>\n",
       "      <td>8.44136</td>\n",
       "    </tr>\n",
       "    <tr>\n",
       "      <th>400002</th>\n",
       "      <td>2.29424</td>\n",
       "      <td>2.47428</td>\n",
       "      <td>6.04424</td>\n",
       "      <td>2.88066</td>\n",
       "      <td>1.74383</td>\n",
       "      <td>2.39712</td>\n",
       "      <td>4.11523</td>\n",
       "      <td>1.9393</td>\n",
       "      <td>6.32202</td>\n",
       "      <td>2.20679</td>\n",
       "      <td>...</td>\n",
       "      <td>4.92284</td>\n",
       "      <td>4.16152</td>\n",
       "      <td>1.69753</td>\n",
       "      <td>3.71914</td>\n",
       "      <td>2.58745</td>\n",
       "      <td>2.13477</td>\n",
       "      <td>1.83642</td>\n",
       "      <td>1.41975</td>\n",
       "      <td>4.34671</td>\n",
       "      <td>2.46914</td>\n",
       "    </tr>\n",
       "    <tr>\n",
       "      <th>400004</th>\n",
       "      <td>NaN</td>\n",
       "      <td>NaN</td>\n",
       "      <td>8.54424</td>\n",
       "      <td>NaN</td>\n",
       "      <td>NaN</td>\n",
       "      <td>NaN</td>\n",
       "      <td>NaN</td>\n",
       "      <td>NaN</td>\n",
       "      <td>8.42078</td>\n",
       "      <td>NaN</td>\n",
       "      <td>...</td>\n",
       "      <td>8.65226</td>\n",
       "      <td>8.33848</td>\n",
       "      <td>NaN</td>\n",
       "      <td>9.01235</td>\n",
       "      <td>NaN</td>\n",
       "      <td>NaN</td>\n",
       "      <td>NaN</td>\n",
       "      <td>NaN</td>\n",
       "      <td>8.95576</td>\n",
       "      <td>NaN</td>\n",
       "    </tr>\n",
       "  </tbody>\n",
       "</table>\n",
       "<p>6 rows × 103 columns</p>\n",
       "</div>"
      ],
      "text/plain": [
       "        4501244  3521164   3640424  2823054  3553976  3470600  4513674  \\\n",
       "400003  4.94342  4.76337   4.21296  3.97119  2.84979  4.26955  7.25823   \n",
       "400005      NaN      NaN    7.7572      NaN  7.99383      NaN  8.05041   \n",
       "400001  4.93313  4.70679   4.36214  4.09979  2.38683  5.36523  7.00617   \n",
       "400006  7.81893  7.88066  0.185185  8.93519      NaN  9.49074  9.07407   \n",
       "400002  2.29424  2.47428   6.04424  2.88066  1.74383  2.39712  4.11523   \n",
       "400004      NaN      NaN   8.54424      NaN      NaN      NaN      NaN   \n",
       "\n",
       "        4698684    3315342  3874544  ...    4196776    2948356  1355644  \\\n",
       "400003  4.25926    4.01749  4.30556  ...    1.65638    2.08333  2.80864   \n",
       "400005      NaN    8.17901      NaN  ...  0.0360082  0.0668724  7.83436   \n",
       "400001  4.63477    4.34156  4.55761  ...    1.66152    1.74897   2.1965   \n",
       "400006   8.8323  0.0154321  9.79938  ...  0.0462963   0.221193      NaN   \n",
       "400002   1.9393    6.32202  2.20679  ...    4.92284    4.16152  1.69753   \n",
       "400004      NaN    8.42078      NaN  ...    8.65226    8.33848      NaN   \n",
       "\n",
       "         3300542  5247022  2140479  1083452  1179933    3410834  3553442  \n",
       "400003   1.65123   3.6677  2.90638  2.95267  2.72634    2.03189  3.74486  \n",
       "400005         0      NaN  8.30761  9.38272  8.15844          0      NaN  \n",
       "400001   1.59979  4.71708      2.5  2.37654  2.59259    1.86728  4.11008  \n",
       "400006  0.138889   7.9321      NaN      NaN      NaN  0.0154321  8.44136  \n",
       "400002   3.71914  2.58745  2.13477  1.83642  1.41975    4.34671  2.46914  \n",
       "400004   9.01235      NaN      NaN      NaN      NaN    8.95576      NaN  \n",
       "\n",
       "[6 rows x 103 columns]"
      ]
     },
     "execution_count": 16,
     "metadata": {},
     "output_type": "execute_result"
    }
   ],
   "source": [
    "uiMatrixNorm"
   ]
  },
  {
   "cell_type": "markdown",
   "metadata": {},
   "source": [
    "# User-based Collaborative Filtering"
   ]
  },
  {
   "cell_type": "markdown",
   "metadata": {},
   "source": [
    "## Step 1: Compute Similarity between the active user and the rest of the users\n",
    "Select a user.\n",
    "\n",
    "For our needs we need to find one without all the ratings already filled "
   ]
  },
  {
   "cell_type": "code",
   "execution_count": 17,
   "metadata": {},
   "outputs": [
    {
     "data": {
      "text/plain": [
       "400003    103\n",
       "400005    103\n",
       "400001    103\n",
       "400006    103\n",
       "400002    103\n",
       "400004    103\n",
       "dtype: int64"
      ]
     },
     "execution_count": 17,
     "metadata": {},
     "output_type": "execute_result"
    }
   ],
   "source": [
    "uiMatrixNorm.isnull().count(axis=1)"
   ]
  },
  {
   "cell_type": "markdown",
   "metadata": {},
   "source": [
    "We can choose freerly, in our dataset not all the users rated all the movies"
   ]
  },
  {
   "cell_type": "code",
   "execution_count": 18,
   "metadata": {},
   "outputs": [],
   "source": [
    "currentUser = 400005"
   ]
  },
  {
   "cell_type": "markdown",
   "metadata": {},
   "source": [
    "To avoid possible problem with measures, especially with Pearson correlation, let's convert all the values in the matrix as floating point numbers (previusly were `object` type)"
   ]
  },
  {
   "cell_type": "code",
   "execution_count": 19,
   "metadata": {},
   "outputs": [],
   "source": [
    "uiMatrixNorm = uiMatrixNorm.astype(float)"
   ]
  },
  {
   "cell_type": "markdown",
   "metadata": {},
   "source": [
    "Select the current user list of movies in a Pandas Series"
   ]
  },
  {
   "cell_type": "code",
   "execution_count": 20,
   "metadata": {},
   "outputs": [],
   "source": [
    "cuDf = uiMatrixNorm.loc[currentUser]"
   ]
  },
  {
   "cell_type": "markdown",
   "metadata": {},
   "source": [
    "Compute correlation using [`corrwith`](https://pandas.pydata.org/pandas-docs/stable/reference/api/pandas.DataFrame.corrwith.html)"
   ]
  },
  {
   "cell_type": "code",
   "execution_count": 21,
   "metadata": {},
   "outputs": [],
   "source": [
    "corrDf = uiMatrixNorm.corrwith(cuDf, axis=1, method='pearson')"
   ]
  },
  {
   "cell_type": "markdown",
   "metadata": {},
   "source": [
    "Sort and print the results"
   ]
  },
  {
   "cell_type": "code",
   "execution_count": 22,
   "metadata": {},
   "outputs": [],
   "source": [
    "corrDf.sort_values(ascending=False, inplace=True)"
   ]
  },
  {
   "cell_type": "code",
   "execution_count": 23,
   "metadata": {
    "scrolled": false
   },
   "outputs": [
    {
     "data": {
      "text/plain": [
       "400005    1.000000\n",
       "400003    0.379975\n",
       "400001    0.375150\n",
       "400006    0.305177\n",
       "400004   -0.226089\n",
       "400002   -0.509538\n",
       "dtype: float64"
      ]
     },
     "execution_count": 23,
     "metadata": {},
     "output_type": "execute_result"
    }
   ],
   "source": [
    "corrDf"
   ]
  },
  {
   "cell_type": "markdown",
   "metadata": {},
   "source": [
    "The results are correct if the correlation between the current user and itself is equal to 1. (We can remove its row for next steps)"
   ]
  },
  {
   "cell_type": "code",
   "execution_count": 24,
   "metadata": {},
   "outputs": [],
   "source": [
    "corrDf.drop(labels=[currentUser], inplace=True)"
   ]
  },
  {
   "cell_type": "markdown",
   "metadata": {},
   "source": [
    "Let's select the top-*k* with *k*=2"
   ]
  },
  {
   "cell_type": "code",
   "execution_count": 25,
   "metadata": {},
   "outputs": [
    {
     "data": {
      "text/plain": [
       "400003    0.379975\n",
       "400001    0.375150\n",
       "dtype: float64"
      ]
     },
     "execution_count": 25,
     "metadata": {},
     "output_type": "execute_result"
    }
   ],
   "source": [
    "corrDf = corrDf.head(2)\n",
    "corrDf"
   ]
  },
  {
   "cell_type": "markdown",
   "metadata": {},
   "source": [
    "Select the items whose values are to be predicted for current user"
   ]
  },
  {
   "cell_type": "code",
   "execution_count": 26,
   "metadata": {},
   "outputs": [
    {
     "data": {
      "text/plain": [
       "4501244   NaN\n",
       "3521164   NaN\n",
       "2823054   NaN\n",
       "3470600   NaN\n",
       "4698684   NaN\n",
       "3874544   NaN\n",
       "475290    NaN\n",
       "2387499   NaN\n",
       "1700841   NaN\n",
       "1608290   NaN\n",
       "2709768   NaN\n",
       "1489889   NaN\n",
       "1473832   NaN\n",
       "4438848   NaN\n",
       "2277860   NaN\n",
       "4139124   NaN\n",
       "1292566   NaN\n",
       "4136084   NaN\n",
       "4034354   NaN\n",
       "1711525   NaN\n",
       "1985949   NaN\n",
       "1860213   NaN\n",
       "4624424   NaN\n",
       "4048272   NaN\n",
       "1679335   NaN\n",
       "2937696   NaN\n",
       "4901306   NaN\n",
       "4651520   NaN\n",
       "5247022   NaN\n",
       "3553442   NaN\n",
       "Name: 400005, dtype: float64"
      ]
     },
     "execution_count": 26,
     "metadata": {},
     "output_type": "execute_result"
    }
   ],
   "source": [
    "toPredict = cuDf[cuDf.isna()]\n",
    "toPredict"
   ]
  },
  {
   "cell_type": "markdown",
   "metadata": {},
   "source": [
    "Select all the ratings from the other users selected for rating prediction"
   ]
  },
  {
   "cell_type": "code",
   "execution_count": 27,
   "metadata": {},
   "outputs": [
    {
     "data": {
      "text/html": [
       "<div>\n",
       "<style scoped>\n",
       "    .dataframe tbody tr th:only-of-type {\n",
       "        vertical-align: middle;\n",
       "    }\n",
       "\n",
       "    .dataframe tbody tr th {\n",
       "        vertical-align: top;\n",
       "    }\n",
       "\n",
       "    .dataframe thead th {\n",
       "        text-align: right;\n",
       "    }\n",
       "</style>\n",
       "<table border=\"1\" class=\"dataframe\">\n",
       "  <thead>\n",
       "    <tr style=\"text-align: right;\">\n",
       "      <th></th>\n",
       "      <th>4501244</th>\n",
       "      <th>3521164</th>\n",
       "      <th>3640424</th>\n",
       "      <th>2823054</th>\n",
       "      <th>3553976</th>\n",
       "      <th>3470600</th>\n",
       "      <th>4513674</th>\n",
       "      <th>4698684</th>\n",
       "      <th>3315342</th>\n",
       "      <th>3874544</th>\n",
       "      <th>...</th>\n",
       "      <th>4196776</th>\n",
       "      <th>2948356</th>\n",
       "      <th>1355644</th>\n",
       "      <th>3300542</th>\n",
       "      <th>5247022</th>\n",
       "      <th>2140479</th>\n",
       "      <th>1083452</th>\n",
       "      <th>1179933</th>\n",
       "      <th>3410834</th>\n",
       "      <th>3553442</th>\n",
       "    </tr>\n",
       "  </thead>\n",
       "  <tbody>\n",
       "    <tr>\n",
       "      <th>400003</th>\n",
       "      <td>4.943416</td>\n",
       "      <td>4.763374</td>\n",
       "      <td>4.212963</td>\n",
       "      <td>3.971193</td>\n",
       "      <td>2.849794</td>\n",
       "      <td>4.269547</td>\n",
       "      <td>7.258230</td>\n",
       "      <td>4.259259</td>\n",
       "      <td>4.017490</td>\n",
       "      <td>4.305556</td>\n",
       "      <td>...</td>\n",
       "      <td>1.656379</td>\n",
       "      <td>2.083333</td>\n",
       "      <td>2.808642</td>\n",
       "      <td>1.651235</td>\n",
       "      <td>3.667695</td>\n",
       "      <td>2.906379</td>\n",
       "      <td>2.952675</td>\n",
       "      <td>2.726337</td>\n",
       "      <td>2.031893</td>\n",
       "      <td>3.744856</td>\n",
       "    </tr>\n",
       "    <tr>\n",
       "      <th>400001</th>\n",
       "      <td>4.933128</td>\n",
       "      <td>4.706790</td>\n",
       "      <td>4.362140</td>\n",
       "      <td>4.099794</td>\n",
       "      <td>2.386831</td>\n",
       "      <td>5.365226</td>\n",
       "      <td>7.006173</td>\n",
       "      <td>4.634774</td>\n",
       "      <td>4.341564</td>\n",
       "      <td>4.557613</td>\n",
       "      <td>...</td>\n",
       "      <td>1.661523</td>\n",
       "      <td>1.748971</td>\n",
       "      <td>2.196502</td>\n",
       "      <td>1.599794</td>\n",
       "      <td>4.717078</td>\n",
       "      <td>2.500000</td>\n",
       "      <td>2.376543</td>\n",
       "      <td>2.592593</td>\n",
       "      <td>1.867284</td>\n",
       "      <td>4.110082</td>\n",
       "    </tr>\n",
       "  </tbody>\n",
       "</table>\n",
       "<p>2 rows × 103 columns</p>\n",
       "</div>"
      ],
      "text/plain": [
       "         4501244   3521164   3640424   2823054   3553976   3470600   4513674  \\\n",
       "400003  4.943416  4.763374  4.212963  3.971193  2.849794  4.269547  7.258230   \n",
       "400001  4.933128  4.706790  4.362140  4.099794  2.386831  5.365226  7.006173   \n",
       "\n",
       "         4698684   3315342   3874544  ...   4196776   2948356   1355644  \\\n",
       "400003  4.259259  4.017490  4.305556  ...  1.656379  2.083333  2.808642   \n",
       "400001  4.634774  4.341564  4.557613  ...  1.661523  1.748971  2.196502   \n",
       "\n",
       "         3300542   5247022   2140479   1083452   1179933   3410834   3553442  \n",
       "400003  1.651235  3.667695  2.906379  2.952675  2.726337  2.031893  3.744856  \n",
       "400001  1.599794  4.717078  2.500000  2.376543  2.592593  1.867284  4.110082  \n",
       "\n",
       "[2 rows x 103 columns]"
      ]
     },
     "execution_count": 27,
     "metadata": {},
     "output_type": "execute_result"
    }
   ],
   "source": [
    "ratings = uiMatrixNorm.loc[corrDf.index]\n",
    "ratings"
   ]
  },
  {
   "cell_type": "markdown",
   "metadata": {},
   "source": [
    "Select only their ratings for the items we need"
   ]
  },
  {
   "cell_type": "code",
   "execution_count": 28,
   "metadata": {},
   "outputs": [
    {
     "data": {
      "text/html": [
       "<div>\n",
       "<style scoped>\n",
       "    .dataframe tbody tr th:only-of-type {\n",
       "        vertical-align: middle;\n",
       "    }\n",
       "\n",
       "    .dataframe tbody tr th {\n",
       "        vertical-align: top;\n",
       "    }\n",
       "\n",
       "    .dataframe thead th {\n",
       "        text-align: right;\n",
       "    }\n",
       "</style>\n",
       "<table border=\"1\" class=\"dataframe\">\n",
       "  <thead>\n",
       "    <tr style=\"text-align: right;\">\n",
       "      <th></th>\n",
       "      <th>4501244</th>\n",
       "      <th>3521164</th>\n",
       "      <th>2823054</th>\n",
       "      <th>3470600</th>\n",
       "      <th>4698684</th>\n",
       "      <th>3874544</th>\n",
       "      <th>475290</th>\n",
       "      <th>2387499</th>\n",
       "      <th>1700841</th>\n",
       "      <th>1608290</th>\n",
       "      <th>...</th>\n",
       "      <th>1985949</th>\n",
       "      <th>1860213</th>\n",
       "      <th>4624424</th>\n",
       "      <th>4048272</th>\n",
       "      <th>1679335</th>\n",
       "      <th>2937696</th>\n",
       "      <th>4901306</th>\n",
       "      <th>4651520</th>\n",
       "      <th>5247022</th>\n",
       "      <th>3553442</th>\n",
       "    </tr>\n",
       "  </thead>\n",
       "  <tbody>\n",
       "    <tr>\n",
       "      <th>400003</th>\n",
       "      <td>4.943416</td>\n",
       "      <td>4.763374</td>\n",
       "      <td>3.971193</td>\n",
       "      <td>4.269547</td>\n",
       "      <td>4.259259</td>\n",
       "      <td>4.305556</td>\n",
       "      <td>4.480453</td>\n",
       "      <td>4.403292</td>\n",
       "      <td>4.686214</td>\n",
       "      <td>4.207819</td>\n",
       "      <td>...</td>\n",
       "      <td>4.243827</td>\n",
       "      <td>4.022634</td>\n",
       "      <td>4.722222</td>\n",
       "      <td>3.986626</td>\n",
       "      <td>5.061728</td>\n",
       "      <td>3.647119</td>\n",
       "      <td>4.290123</td>\n",
       "      <td>5.241770</td>\n",
       "      <td>3.667695</td>\n",
       "      <td>3.744856</td>\n",
       "    </tr>\n",
       "    <tr>\n",
       "      <th>400001</th>\n",
       "      <td>4.933128</td>\n",
       "      <td>4.706790</td>\n",
       "      <td>4.099794</td>\n",
       "      <td>5.365226</td>\n",
       "      <td>4.634774</td>\n",
       "      <td>4.557613</td>\n",
       "      <td>4.531893</td>\n",
       "      <td>4.161523</td>\n",
       "      <td>4.130658</td>\n",
       "      <td>4.593621</td>\n",
       "      <td>...</td>\n",
       "      <td>4.212963</td>\n",
       "      <td>4.223251</td>\n",
       "      <td>3.796296</td>\n",
       "      <td>4.861111</td>\n",
       "      <td>4.398148</td>\n",
       "      <td>4.465021</td>\n",
       "      <td>4.120370</td>\n",
       "      <td>3.734568</td>\n",
       "      <td>4.717078</td>\n",
       "      <td>4.110082</td>\n",
       "    </tr>\n",
       "  </tbody>\n",
       "</table>\n",
       "<p>2 rows × 30 columns</p>\n",
       "</div>"
      ],
      "text/plain": [
       "         4501244   3521164   2823054   3470600   4698684   3874544   475290   \\\n",
       "400003  4.943416  4.763374  3.971193  4.269547  4.259259  4.305556  4.480453   \n",
       "400001  4.933128  4.706790  4.099794  5.365226  4.634774  4.557613  4.531893   \n",
       "\n",
       "         2387499   1700841   1608290  ...   1985949   1860213   4624424  \\\n",
       "400003  4.403292  4.686214  4.207819  ...  4.243827  4.022634  4.722222   \n",
       "400001  4.161523  4.130658  4.593621  ...  4.212963  4.223251  3.796296   \n",
       "\n",
       "         4048272   1679335   2937696   4901306   4651520   5247022   3553442  \n",
       "400003  3.986626  5.061728  3.647119  4.290123  5.241770  3.667695  3.744856  \n",
       "400001  4.861111  4.398148  4.465021  4.120370  3.734568  4.717078  4.110082  \n",
       "\n",
       "[2 rows x 30 columns]"
      ]
     },
     "execution_count": 28,
     "metadata": {},
     "output_type": "execute_result"
    }
   ],
   "source": [
    "ratingsToPredict = ratings[toPredict.index]\n",
    "ratingsToPredict"
   ]
  },
  {
   "cell_type": "markdown",
   "metadata": {},
   "source": [
    "Compute the predicted ratings for current user.\n",
    "\n",
    "Using mean value of the other high-similarity users."
   ]
  },
  {
   "cell_type": "code",
   "execution_count": 29,
   "metadata": {},
   "outputs": [
    {
     "data": {
      "text/plain": [
       "4501244    4.938272\n",
       "1489889    4.909979\n",
       "3470600    4.817387\n",
       "3521164    4.735082\n",
       "1679335    4.729938\n",
       "4438848    4.699074\n",
       "1711525    4.596193\n",
       "2709768    4.580761\n",
       "475290     4.506173\n",
       "4651520    4.488169\n",
       "2277860    4.452160\n",
       "4698684    4.447016\n",
       "3874544    4.431584\n",
       "4048272    4.423868\n",
       "1700841    4.408436\n",
       "1608290    4.400720\n",
       "4034354    4.393004\n",
       "1292566    4.387860\n",
       "1473832    4.295267\n",
       "2387499    4.282407\n",
       "4624424    4.259259\n",
       "1985949    4.228395\n",
       "4901306    4.205247\n",
       "5247022    4.192387\n",
       "4136084    4.166667\n",
       "1860213    4.122942\n",
       "4139124    4.063786\n",
       "2937696    4.056070\n",
       "2823054    4.035494\n",
       "3553442    3.927469\n",
       "dtype: float64"
      ]
     },
     "execution_count": 29,
     "metadata": {},
     "output_type": "execute_result"
    }
   ],
   "source": [
    "predictedRatings = ratingsToPredict.mean()\n",
    "predictedRatings.sort_values(ascending=False, inplace=True)\n",
    "predictedRatings"
   ]
  },
  {
   "cell_type": "markdown",
   "metadata": {},
   "source": [
    "Select the top-*k* with *k*=5 for recommendation."
   ]
  },
  {
   "cell_type": "code",
   "execution_count": 30,
   "metadata": {},
   "outputs": [
    {
     "data": {
      "text/plain": [
       "4501244    4.938272\n",
       "1489889    4.909979\n",
       "3470600    4.817387\n",
       "3521164    4.735082\n",
       "1679335    4.729938\n",
       "dtype: float64"
      ]
     },
     "execution_count": 30,
     "metadata": {},
     "output_type": "execute_result"
    }
   ],
   "source": [
    "predictedRatings.head(5)"
   ]
  },
  {
   "cell_type": "code",
   "execution_count": null,
   "metadata": {},
   "outputs": [],
   "source": []
  },
  {
   "cell_type": "markdown",
   "metadata": {},
   "source": [
    "- Course Instructor: Dr. Paolo Mengoni (Visiting Scholar, School of Communication, Hong Kong Baptist University) \n",
    "  - pmengoni@hkbu.edu.hk\n",
    "\n",
    "- The codes in this notebook take insipiration from various sources. All codes are for educational purposes only and released under the CC1.0. "
   ]
  }
 ],
 "metadata": {
  "anaconda-cloud": {},
  "kernelspec": {
   "display_name": "Python 3",
   "language": "python",
   "name": "python3"
  },
  "language_info": {
   "codemirror_mode": {
    "name": "ipython",
    "version": 3
   },
   "file_extension": ".py",
   "mimetype": "text/x-python",
   "name": "python",
   "nbconvert_exporter": "python",
   "pygments_lexer": "ipython3",
   "version": "3.7.3"
  },
  "toc": {
   "nav_menu": {},
   "number_sections": true,
   "sideBar": true,
   "skip_h1_title": false,
   "title_cell": "Table of Contents",
   "title_sidebar": "Contents",
   "toc_cell": false,
   "toc_position": {},
   "toc_section_display": true,
   "toc_window_display": false
  }
 },
 "nbformat": 4,
 "nbformat_minor": 1
}
